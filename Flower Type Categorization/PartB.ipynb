{
  "nbformat": 4,
  "nbformat_minor": 0,
  "metadata": {
    "colab": {
      "name": "A02_PartB.ipynb",
      "provenance": [],
      "collapsed_sections": []
    },
    "kernelspec": {
      "name": "python3",
      "display_name": "Python 3"
    },
    "accelerator": "GPU"
  },
  "cells": [
    {
      "cell_type": "code",
      "metadata": {
        "id": "ZcuzGad3u3I6",
        "colab_type": "code",
        "outputId": "c4fb0ba2-0ab8-440f-880e-d1ba593aef51",
        "colab": {
          "base_uri": "https://localhost:8080/",
          "height": 34
        }
      },
      "source": [
        "# Colab has two versions of TensorFlow installed: a 1.x version and a 2.x version. \n",
        "# Colab currently uses TF 1.x by default\n",
        "# To enable TF2 execute the following code\n",
        "\n",
        "%tensorflow_version 2.x\n",
        "import tensorflow as tf\n",
        "print(tf.__version__)\n"
      ],
      "execution_count": 1,
      "outputs": [
        {
          "output_type": "stream",
          "text": [
            "2.2.0\n"
          ],
          "name": "stdout"
        }
      ]
    },
    {
      "cell_type": "code",
      "metadata": {
        "id": "YUPpJSV6vBgk",
        "colab_type": "code",
        "outputId": "22529007-7d00-48bb-bef5-ace72c501e1d",
        "colab": {
          "base_uri": "https://localhost:8080/",
          "height": 122
        }
      },
      "source": [
        "from google.colab import drive\n",
        "drive.mount('/content/gdrive')"
      ],
      "execution_count": 2,
      "outputs": [
        {
          "output_type": "stream",
          "text": [
            "Go to this URL in a browser: https://accounts.google.com/o/oauth2/auth?client_id=947318989803-6bn6qk8qdgf4n4g3pfee6491hc0brc4i.apps.googleusercontent.com&redirect_uri=urn%3aietf%3awg%3aoauth%3a2.0%3aoob&response_type=code&scope=email%20https%3a%2f%2fwww.googleapis.com%2fauth%2fdocs.test%20https%3a%2f%2fwww.googleapis.com%2fauth%2fdrive%20https%3a%2f%2fwww.googleapis.com%2fauth%2fdrive.photos.readonly%20https%3a%2f%2fwww.googleapis.com%2fauth%2fpeopleapi.readonly\n",
            "\n",
            "Enter your authorization code:\n",
            "··········\n",
            "Mounted at /content/gdrive\n"
          ],
          "name": "stdout"
        }
      ]
    },
    {
      "cell_type": "code",
      "metadata": {
        "id": "vphPDldPvV87",
        "colab_type": "code",
        "outputId": "6c98bd11-cb41-4c12-be9a-89b13ed28446",
        "colab": {
          "base_uri": "https://localhost:8080/",
          "height": 34
        }
      },
      "source": [
        "!ls /content/gdrive/'My Drive'/'Colab Notebooks'/data.h5.zip"
      ],
      "execution_count": 3,
      "outputs": [
        {
          "output_type": "stream",
          "text": [
            "'/content/gdrive/My Drive/Colab Notebooks/data.h5.zip'\n"
          ],
          "name": "stdout"
        }
      ]
    },
    {
      "cell_type": "code",
      "metadata": {
        "id": "ad--J33ovggk",
        "colab_type": "code",
        "outputId": "c18cdf7d-9e24-4d32-96c4-5f74525088aa",
        "colab": {
          "base_uri": "https://localhost:8080/",
          "height": 51
        }
      },
      "source": [
        "!unzip \"/content/gdrive/My Drive/Colab Notebooks/data.h5.zip\""
      ],
      "execution_count": 4,
      "outputs": [
        {
          "output_type": "stream",
          "text": [
            "Archive:  /content/gdrive/My Drive/Colab Notebooks/data.h5.zip\n",
            "  inflating: data1.h5                \n"
          ],
          "name": "stdout"
        }
      ]
    },
    {
      "cell_type": "markdown",
      "metadata": {
        "id": "MDRms88qvyiy",
        "colab_type": "text"
      },
      "source": [
        "### Loading the Train and the Test Data "
      ]
    },
    {
      "cell_type": "code",
      "metadata": {
        "id": "sRuxDxiIvlYb",
        "colab_type": "code",
        "outputId": "be0d92d5-3d12-4893-8c20-3e40ada75849",
        "colab": {
          "base_uri": "https://localhost:8080/",
          "height": 204
        }
      },
      "source": [
        "import numpy as np\n",
        "import h5py\n",
        "\n",
        "\n",
        "def loadDataH5():\n",
        "        \n",
        "\n",
        "    with h5py.File('data1.h5','r') as hf:\n",
        "        trainX = np.array(hf.get('trainX'))\n",
        "        trainY = np.array(hf.get('trainY'))\n",
        "        valX = np.array(hf.get('valX'))\n",
        "        valY = np.array(hf.get('valY'))\n",
        "        print (trainX.shape,trainY.shape)\n",
        "        print (valX.shape,valY.shape)\n",
        "    return trainX, trainY, valX, valY\n",
        "\n",
        "X_train, y_train, X_test, y_test = loadDataH5()\n",
        "\n",
        "print('Shape of the feature training data: \\n', X_train.shape)\n",
        "print('Shape of the true training class labels: \\n', y_train.shape)\n",
        "print()\n",
        "print('Shape of the feature test data: \\n', X_test.shape)\n",
        "print('Shape of the true test class labels: \\n', y_test.shape)"
      ],
      "execution_count": 5,
      "outputs": [
        {
          "output_type": "stream",
          "text": [
            "(1020, 128, 128, 3) (1020,)\n",
            "(340, 128, 128, 3) (340,)\n",
            "Shape of the feature training data: \n",
            " (1020, 128, 128, 3)\n",
            "Shape of the true training class labels: \n",
            " (1020,)\n",
            "\n",
            "Shape of the feature test data: \n",
            " (340, 128, 128, 3)\n",
            "Shape of the true test class labels: \n",
            " (340,)\n"
          ],
          "name": "stdout"
        }
      ]
    },
    {
      "cell_type": "code",
      "metadata": {
        "id": "6iOEOqWtVbdV",
        "colab_type": "code",
        "colab": {}
      },
      "source": [
        "import warnings # Ignoring unnecessory warnings\n",
        "warnings.filterwarnings(\"ignore\")  \n",
        "# Importing the necessary libraries \n",
        "import tensorflow as tf \n",
        "from tensorflow import keras\n",
        "from tensorflow.keras import layers\n",
        "import numpy as np \n",
        "import matplotlib.pyplot as plt"
      ],
      "execution_count": 0,
      "outputs": []
    },
    {
      "cell_type": "markdown",
      "metadata": {
        "id": "8BOvmNB4AXeT",
        "colab_type": "text"
      },
      "source": [
        "## Feature Extraction in Transfer Learning \n"
      ]
    },
    {
      "cell_type": "markdown",
      "metadata": {
        "id": "RgMdq1Fq6nTT",
        "colab_type": "text"
      },
      "source": [
        "### Some important functions"
      ]
    },
    {
      "cell_type": "code",
      "metadata": {
        "id": "26gycsKpvqCn",
        "colab_type": "code",
        "colab": {}
      },
      "source": [
        "def get_pretrained_models(configuration):\n",
        "  \"\"\"\n",
        "  Returns the 3 pretrained models from keras with removed fully connected layers  \n",
        "  \"\"\"\n",
        "  # Fetching the VGG16 model and its variant \n",
        "  vgg16 = tf.keras.applications.VGG16(include_top=False, input_shape=(128, 128, 3))\n",
        "  vgg16_variant= tf.keras.Model(inputs=vgg16.input,\n",
        "                                outputs=vgg16.get_layer('block4_conv2').output)\n",
        "  # Fetching the VGG19 model and its variant \n",
        "  vgg19 = tf.keras.applications.VGG19(include_top=False,  input_shape=(128, 128, 3))\n",
        "  vgg19_variant= tf.keras.Model(inputs=vgg19.input,\n",
        "                                outputs=vgg19.get_layer('block4_conv4').output)\n",
        "  # Fetching the Inception 3 model and its variant \n",
        "  inception3 = tf.keras.applications.InceptionV3(include_top=False,  input_shape=(128, 128, 3))\n",
        "  \n",
        "  if configuration=='initial':\n",
        "    return vgg16, vgg19, inception3\n",
        "  elif configuration=='variant':\n",
        "    return vgg16_variant, vgg19_variant\n",
        "\n",
        "def get_new_datasets(model, X_train, X_test):\n",
        "  \"\"\"\n",
        "  Returns the new feature training and the new feature test data containing the descriptive features from the pretrained models\n",
        "  \"\"\"\n",
        "  # Push all the training examples into the truncated pre-trained model \n",
        "  # It will be a 4-d array \n",
        "  features_train= model.predict(X_train)\n",
        "  # Push all the validation/test examples into the truncated pre-trained model \n",
        "  # It will be a 4-d array \n",
        "  features_test= model.predict(X_test)\n",
        "\n",
        "  # Tranform the new training dataset into a 2-d array \n",
        "  features_train = features_train.reshape(features_train.shape[0], -1)\n",
        "  # Tranform the new training dataset into a 2-d array \n",
        "  features_test = features_test.reshape(features_test.shape[0], -1)\n",
        "\n",
        "  return features_train, features_test \n",
        "\n",
        "def get_ML_models():\n",
        "  \"\"\"\n",
        "  Build the range of ML models\n",
        "  \"\"\"\n",
        "  # Importing the various models \n",
        "  from sklearn.ensemble import RandomForestClassifier\n",
        "  from sklearn.linear_model import LogisticRegression\n",
        "  from sklearn.tree import DecisionTreeClassifier\n",
        "  from sklearn.svm import SVC\n",
        "\n",
        "  # Build these imported ML models \n",
        "  random_forest= RandomForestClassifier(max_depth=2, random_state=0)\n",
        "  logistic_regression = LogisticRegression(random_state=0)\n",
        "  decision_tree = DecisionTreeClassifier(random_state=0)\n",
        "  svm = SVC(random_state=0)\n",
        "  \n",
        "  return random_forest, logistic_regression, decision_tree, svm\n",
        "\n",
        "def train_evaluate(random_forest, logistic_regression, decision_tree, svm):\n",
        "  \"\"\"\n",
        "  Train and Evaluate these ML models on the test set \n",
        "  \"\"\"\n",
        "  from sklearn.metrics import accuracy_score\n",
        "  model_names= ['Random Forest', 'Logistic Regression', 'Decision Tree', 'SVM']\n",
        "  models= [random_forest, logistic_regression, decision_tree, svm]\n",
        "  for model_name, model in zip(model_names, models):\n",
        "    trained_model = model.fit(features_train, y_train)\n",
        "    predictions= trained_model.predict(features_test)\n",
        "    accuracy = accuracy_score(predictions, y_test)\n",
        "    print(\"TEST ACCURACY on {} is:{} \".format(model_name, accuracy))\n",
        "    print(\"----------------------------------------------------------------------------------------\")\n",
        "    print(\"\\n\")"
      ],
      "execution_count": 0,
      "outputs": []
    },
    {
      "cell_type": "markdown",
      "metadata": {
        "id": "PxOB34_MWIai",
        "colab_type": "text"
      },
      "source": [
        "### Fetching of Pre-trained and Machine Learning Models "
      ]
    },
    {
      "cell_type": "code",
      "metadata": {
        "id": "MS1oI6sdWH58",
        "colab_type": "code",
        "colab": {}
      },
      "source": [
        "# Get the pretrained models \n",
        "vgg16, vgg19, inception3= get_pretrained_models('initial')\n",
        "\n",
        "# Get the various ML models \n",
        "random_forest, logistic_regression, decision_tree, svm= get_ML_models()"
      ],
      "execution_count": 0,
      "outputs": []
    },
    {
      "cell_type": "markdown",
      "metadata": {
        "id": "FXNUj4ZJGsup",
        "colab_type": "text"
      },
      "source": [
        "### Impact of Feature Extraction from VGG16 with various ML models "
      ]
    },
    {
      "cell_type": "code",
      "metadata": {
        "id": "dwfoNj51GrnZ",
        "colab_type": "code",
        "outputId": "ae62e262-f381-473e-bd44-aa352305d0e3",
        "colab": {
          "base_uri": "https://localhost:8080/",
          "height": 289
        }
      },
      "source": [
        "# Get the new feature train and test data from pre-trained VGG16 model \n",
        "features_train, features_test = get_new_datasets(vgg16, X_train, X_test)\n",
        "\n",
        "# Train and Evaluate these ML models on the test set \n",
        "train_evaluate(random_forest, logistic_regression, decision_tree, svm)"
      ],
      "execution_count": 0,
      "outputs": [
        {
          "output_type": "stream",
          "text": [
            "TEST ACCURACY on Random Forest is:0.611764705882353 \n",
            "----------------------------------------------------------------------------------------\n",
            "\n",
            "\n",
            "TEST ACCURACY on Logistic Regression is:0.8794117647058823 \n",
            "----------------------------------------------------------------------------------------\n",
            "\n",
            "\n",
            "TEST ACCURACY on Decision Tree is:0.4647058823529412 \n",
            "----------------------------------------------------------------------------------------\n",
            "\n",
            "\n",
            "TEST ACCURACY on SVM is:0.8441176470588235 \n",
            "----------------------------------------------------------------------------------------\n",
            "\n",
            "\n"
          ],
          "name": "stdout"
        }
      ]
    },
    {
      "cell_type": "markdown",
      "metadata": {
        "id": "vzVNyEuiUMTA",
        "colab_type": "text"
      },
      "source": [
        "### Impact of Feature Extraction from VGG19 with various ML models "
      ]
    },
    {
      "cell_type": "code",
      "metadata": {
        "id": "xMdE2APRORaZ",
        "colab_type": "code",
        "outputId": "7743c923-fc6f-4cfd-923c-2a208baddf2a",
        "colab": {
          "base_uri": "https://localhost:8080/",
          "height": 289
        }
      },
      "source": [
        "# Get the new feature train and test data from pre-trained VGG16 model \n",
        "features_train, features_test = get_new_datasets(vgg19, X_train, X_test)\n",
        "\n",
        "# Train and Evaluate these ML models on the test set \n",
        "train_evaluate(random_forest, logistic_regression, decision_tree, svm)"
      ],
      "execution_count": 0,
      "outputs": [
        {
          "output_type": "stream",
          "text": [
            "TEST ACCURACY on Random Forest is:0.6529411764705882 \n",
            "----------------------------------------------------------------------------------------\n",
            "\n",
            "\n",
            "TEST ACCURACY on Logistic Regression is:0.8676470588235294 \n",
            "----------------------------------------------------------------------------------------\n",
            "\n",
            "\n",
            "TEST ACCURACY on Decision Tree is:0.4470588235294118 \n",
            "----------------------------------------------------------------------------------------\n",
            "\n",
            "\n",
            "TEST ACCURACY on SVM is:0.8117647058823529 \n",
            "----------------------------------------------------------------------------------------\n",
            "\n",
            "\n"
          ],
          "name": "stdout"
        }
      ]
    },
    {
      "cell_type": "markdown",
      "metadata": {
        "id": "LxiNvTJjc5Ew",
        "colab_type": "text"
      },
      "source": [
        "### Impact of Feature Extraction from InceptionV3 with various ML models "
      ]
    },
    {
      "cell_type": "code",
      "metadata": {
        "id": "MxZx1MtTW1v2",
        "colab_type": "code",
        "outputId": "7c36cf93-59e9-4c34-b80e-870a143b1287",
        "colab": {
          "base_uri": "https://localhost:8080/",
          "height": 289
        }
      },
      "source": [
        "# Get the new feature train and test data from pre-trained VGG16 model \n",
        "features_train, features_test = get_new_datasets(inception3, X_train, X_test)\n",
        "\n",
        "# Train and Evaluate these ML models on the test set \n",
        "train_evaluate(random_forest, logistic_regression, decision_tree, svm)"
      ],
      "execution_count": 0,
      "outputs": [
        {
          "output_type": "stream",
          "text": [
            "TEST ACCURACY on Random Forest is:0.47352941176470587 \n",
            "----------------------------------------------------------------------------------------\n",
            "\n",
            "\n",
            "TEST ACCURACY on Logistic Regression is:0.8470588235294118 \n",
            "----------------------------------------------------------------------------------------\n",
            "\n",
            "\n",
            "TEST ACCURACY on Decision Tree is:0.45588235294117646 \n",
            "----------------------------------------------------------------------------------------\n",
            "\n",
            "\n",
            "TEST ACCURACY on SVM is:0.8411764705882353 \n",
            "----------------------------------------------------------------------------------------\n",
            "\n",
            "\n"
          ],
          "name": "stdout"
        }
      ]
    },
    {
      "cell_type": "markdown",
      "metadata": {
        "id": "WWrdcna6GGZS",
        "colab_type": "text"
      },
      "source": [
        "### Fetching of Variants of Pre-trained models and ML models "
      ]
    },
    {
      "cell_type": "code",
      "metadata": {
        "id": "kWgEtenfGShP",
        "colab_type": "code",
        "colab": {}
      },
      "source": [
        "# Get the pretrained models variants \n",
        "vgg16_variant, vgg19_variant= get_pretrained_models('variant')\n",
        "\n",
        "# Get the various ML models \n",
        "random_forest, logistic_regression, decision_tree, svm= get_ML_models()"
      ],
      "execution_count": 0,
      "outputs": []
    },
    {
      "cell_type": "markdown",
      "metadata": {
        "id": "C1Gf-Yq109T1",
        "colab_type": "text"
      },
      "source": [
        "### Exploring the variants of VGG16 and VGG19  "
      ]
    },
    {
      "cell_type": "code",
      "metadata": {
        "id": "W8RV272udLTY",
        "colab_type": "code",
        "outputId": "16b61f1d-f146-472f-b7e3-e7d6d7354d91",
        "colab": {
          "base_uri": "https://localhost:8080/",
          "height": 1000
        }
      },
      "source": [
        "print(\"The architecture of VGG16 without fully connected layers\")\n",
        "print(vgg16_variant.summary())\n",
        "print()\n",
        "print(\"The architecture of VGG19 without fully connected layers\")\n",
        "print(vgg19_variant.summary())"
      ],
      "execution_count": 0,
      "outputs": [
        {
          "output_type": "stream",
          "text": [
            "The architecture of VGG16 without fully connected layers\n",
            "Model: \"model_4\"\n",
            "_________________________________________________________________\n",
            "Layer (type)                 Output Shape              Param #   \n",
            "=================================================================\n",
            "input_52 (InputLayer)        [(None, 128, 128, 3)]     0         \n",
            "_________________________________________________________________\n",
            "block1_conv1 (Conv2D)        (None, 128, 128, 64)      1792      \n",
            "_________________________________________________________________\n",
            "block1_conv2 (Conv2D)        (None, 128, 128, 64)      36928     \n",
            "_________________________________________________________________\n",
            "block1_pool (MaxPooling2D)   (None, 64, 64, 64)        0         \n",
            "_________________________________________________________________\n",
            "block2_conv1 (Conv2D)        (None, 64, 64, 128)       73856     \n",
            "_________________________________________________________________\n",
            "block2_conv2 (Conv2D)        (None, 64, 64, 128)       147584    \n",
            "_________________________________________________________________\n",
            "block2_pool (MaxPooling2D)   (None, 32, 32, 128)       0         \n",
            "_________________________________________________________________\n",
            "block3_conv1 (Conv2D)        (None, 32, 32, 256)       295168    \n",
            "_________________________________________________________________\n",
            "block3_conv2 (Conv2D)        (None, 32, 32, 256)       590080    \n",
            "_________________________________________________________________\n",
            "block3_conv3 (Conv2D)        (None, 32, 32, 256)       590080    \n",
            "_________________________________________________________________\n",
            "block3_pool (MaxPooling2D)   (None, 16, 16, 256)       0         \n",
            "_________________________________________________________________\n",
            "block4_conv1 (Conv2D)        (None, 16, 16, 512)       1180160   \n",
            "_________________________________________________________________\n",
            "block4_conv2 (Conv2D)        (None, 16, 16, 512)       2359808   \n",
            "=================================================================\n",
            "Total params: 5,275,456\n",
            "Trainable params: 5,275,456\n",
            "Non-trainable params: 0\n",
            "_________________________________________________________________\n",
            "None\n",
            "\n",
            "The architecture of VGG19 without fully connected layers\n",
            "Model: \"model_5\"\n",
            "_________________________________________________________________\n",
            "Layer (type)                 Output Shape              Param #   \n",
            "=================================================================\n",
            "input_53 (InputLayer)        [(None, 128, 128, 3)]     0         \n",
            "_________________________________________________________________\n",
            "block1_conv1 (Conv2D)        (None, 128, 128, 64)      1792      \n",
            "_________________________________________________________________\n",
            "block1_conv2 (Conv2D)        (None, 128, 128, 64)      36928     \n",
            "_________________________________________________________________\n",
            "block1_pool (MaxPooling2D)   (None, 64, 64, 64)        0         \n",
            "_________________________________________________________________\n",
            "block2_conv1 (Conv2D)        (None, 64, 64, 128)       73856     \n",
            "_________________________________________________________________\n",
            "block2_conv2 (Conv2D)        (None, 64, 64, 128)       147584    \n",
            "_________________________________________________________________\n",
            "block2_pool (MaxPooling2D)   (None, 32, 32, 128)       0         \n",
            "_________________________________________________________________\n",
            "block3_conv1 (Conv2D)        (None, 32, 32, 256)       295168    \n",
            "_________________________________________________________________\n",
            "block3_conv2 (Conv2D)        (None, 32, 32, 256)       590080    \n",
            "_________________________________________________________________\n",
            "block3_conv3 (Conv2D)        (None, 32, 32, 256)       590080    \n",
            "_________________________________________________________________\n",
            "block3_conv4 (Conv2D)        (None, 32, 32, 256)       590080    \n",
            "_________________________________________________________________\n",
            "block3_pool (MaxPooling2D)   (None, 16, 16, 256)       0         \n",
            "_________________________________________________________________\n",
            "block4_conv1 (Conv2D)        (None, 16, 16, 512)       1180160   \n",
            "_________________________________________________________________\n",
            "block4_conv2 (Conv2D)        (None, 16, 16, 512)       2359808   \n",
            "_________________________________________________________________\n",
            "block4_conv3 (Conv2D)        (None, 16, 16, 512)       2359808   \n",
            "_________________________________________________________________\n",
            "block4_conv4 (Conv2D)        (None, 16, 16, 512)       2359808   \n",
            "=================================================================\n",
            "Total params: 10,585,152\n",
            "Trainable params: 10,585,152\n",
            "Non-trainable params: 0\n",
            "_________________________________________________________________\n",
            "None\n"
          ],
          "name": "stdout"
        }
      ]
    },
    {
      "cell_type": "markdown",
      "metadata": {
        "id": "uHwAqCXGHaWK",
        "colab_type": "text"
      },
      "source": [
        "### Impact of Feature Extraction from variant of VGG16 with various ML models "
      ]
    },
    {
      "cell_type": "code",
      "metadata": {
        "id": "U-mzzxi92sk9",
        "colab_type": "code",
        "outputId": "f672b9d8-1d9b-4995-a0b5-6bb0f0331766",
        "colab": {
          "base_uri": "https://localhost:8080/",
          "height": 289
        }
      },
      "source": [
        "# Get the new feature train and test data from pre-trained variant of VGG16 model \n",
        "features_train, features_test = get_new_datasets(vgg16_variant, X_train, X_test)\n",
        "\n",
        "# Train and Evaluate these ML models on the test set \n",
        "train_evaluate(random_forest, logistic_regression, decision_tree, svm)"
      ],
      "execution_count": 0,
      "outputs": [
        {
          "output_type": "stream",
          "text": [
            "TEST ACCURACY on Random Forest is:0.4852941176470588 \n",
            "----------------------------------------------------------------------------------------\n",
            "\n",
            "\n",
            "TEST ACCURACY on Logistic Regression is:0.8294117647058824 \n",
            "----------------------------------------------------------------------------------------\n",
            "\n",
            "\n",
            "TEST ACCURACY on Decision Tree is:0.3941176470588235 \n",
            "----------------------------------------------------------------------------------------\n",
            "\n",
            "\n",
            "TEST ACCURACY on SVM is:0.788235294117647 \n",
            "----------------------------------------------------------------------------------------\n",
            "\n",
            "\n"
          ],
          "name": "stdout"
        }
      ]
    },
    {
      "cell_type": "markdown",
      "metadata": {
        "id": "00Ch9jXbHtV-",
        "colab_type": "text"
      },
      "source": [
        "### Impact of Feature Extraction from Variant of VGG19 with various ML models "
      ]
    },
    {
      "cell_type": "code",
      "metadata": {
        "id": "ywyPvn0dHrN1",
        "colab_type": "code",
        "outputId": "6ae42579-b3f6-41a7-be59-239375720696",
        "colab": {
          "base_uri": "https://localhost:8080/",
          "height": 289
        }
      },
      "source": [
        "# Get the new feature train and test data from pre-trained variant of VGG19 model \n",
        "features_train, features_test = get_new_datasets(vgg19_variant, X_train, X_test)\n",
        "\n",
        "# Train and Evaluate these ML models on the test set \n",
        "train_evaluate(random_forest, logistic_regression, decision_tree, svm)"
      ],
      "execution_count": 0,
      "outputs": [
        {
          "output_type": "stream",
          "text": [
            "TEST ACCURACY on Random Forest is:0.4235294117647059 \n",
            "----------------------------------------------------------------------------------------\n",
            "\n",
            "\n",
            "TEST ACCURACY on Logistic Regression is:0.7941176470588235 \n",
            "----------------------------------------------------------------------------------------\n",
            "\n",
            "\n",
            "TEST ACCURACY on Decision Tree is:0.38235294117647056 \n",
            "----------------------------------------------------------------------------------------\n",
            "\n",
            "\n",
            "TEST ACCURACY on SVM is:0.711764705882353 \n",
            "----------------------------------------------------------------------------------------\n",
            "\n",
            "\n"
          ],
          "name": "stdout"
        }
      ]
    },
    {
      "cell_type": "markdown",
      "metadata": {
        "id": "7A_kHccjAH2V",
        "colab_type": "text"
      },
      "source": [
        "## Fine Tuning in Transfer Learning "
      ]
    },
    {
      "cell_type": "markdown",
      "metadata": {
        "id": "MbQXOHT09ZL4",
        "colab_type": "text"
      },
      "source": [
        "### Some Important Functions "
      ]
    },
    {
      "cell_type": "code",
      "metadata": {
        "id": "bqaUSiHKKXeM",
        "colab_type": "code",
        "colab": {}
      },
      "source": [
        "#------------------------------------- SPECIFYING THE EXECUTION PARAMETERS---------------------------------------------------------\n",
        "\n",
        "def compile_train_plot(model,optimizer):\n",
        "  \"\"\"\n",
        "  This function compiles and train the model and produce the desired results \n",
        "  \"\"\"\n",
        "  # Specify the number of epochs \n",
        "  NUM_EPOCHS = 30\n",
        "\n",
        "  # Initialize the optimizer and model\n",
        "  print(\"Compiling model...\")\n",
        "\n",
        "  # Set the optimizer \n",
        "  if optimizer=='normal':\n",
        "    opt = tf.keras.optimizers.SGD(lr=0.01)\n",
        "  elif optimizer=='small':\n",
        "    opt= opt= tf.keras.optimizers.RMSprop(lr=1e-5)\n",
        "  \n",
        "  # Print the model settings \n",
        "  print (model.summary())\n",
        "\n",
        "  # Compile the model \n",
        "  model.compile(loss=\"sparse_categorical_crossentropy\", optimizer=opt, metrics=[\"accuracy\"])\n",
        "\n",
        "#-------------------------------------- CODE FOR TRAINING THE MODEL--------------------------------------------------------\n",
        "\n",
        "  # Train the network\n",
        "  print(\"Training network...\")\n",
        "  history= model.fit(X_train, y_train, validation_data=(X_test, y_test), batch_size=32, epochs=NUM_EPOCHS)\n",
        "\n",
        "#-----------------------CODE FOR PLOTTING THE TRAINING LOSS AND ACCURACY & VALIDATION LOSS AND ACCURACY-------------------------- \n",
        "\n",
        "  plt.style.use(\"ggplot\")\n",
        "  plt.figure()\n",
        "\n",
        "  upper_limit= NUM_EPOCHS\n",
        "  plt.plot(np.arange(0, upper_limit), history.history[\"loss\"], label=\"train_loss\")\n",
        "  plt.plot(np.arange(0, upper_limit), history.history[\"val_loss\"], label=\"val_loss\")\n",
        "  plt.plot(np.arange(0, upper_limit), history.history[\"accuracy\"], label=\"train_acc\")\n",
        "  plt.plot(np.arange(0, upper_limit), history.history[\"val_accuracy\"], label=\"val_acc\")\n",
        "  plt.title(\"Number of Epochs vs Training/Validation Loss and Accuracy\")\n",
        "  plt.xlabel(\"Number of Epochs\")\n",
        "  plt.ylabel(\"Loss/Accuracy\")\n",
        "  plt.legend()\n",
        "  plt.show()\n",
        "#------------------------------ TEST SET RESULTS-------------------------------------------------\n",
        "\n",
        "  # Get the predictions from our basic model \n",
        "  results= model.evaluate(X_test, y_test)\n",
        "  # Print the test set loss and the accuracy \n",
        "  print(\"The test set loss and accuracy is \\n\",results)\n",
        "\n",
        "def phase1_model():\n",
        "  \"\"\"\n",
        "  Replace the fully connected layers with your own FC layers\n",
        "  \"\"\"\n",
        "  # Fetching the VGG16 model with fully connected layers\n",
        "  vgg16 = tf.keras.applications.VGG16(weights='imagenet', include_top=False, input_shape=(128,128,3))\n",
        "  # Freeze the weights of all the layers in the network \n",
        "  vgg16.trainable= False\n",
        "  # Create a new model \n",
        "  model= tf.keras.models.Sequential()\n",
        "  # Add the freezed vgg16 model to our new model \n",
        "  # By default the weights associated with the addition of new layers will be updated in the training process. \n",
        "  model.add(vgg16)\n",
        "  model.add(tf.keras.layers.Flatten())\n",
        "  model.add(tf.keras.layers.Dropout(0.5))\n",
        "  model.add(tf.keras.layers.Dense(500, activation='relu'))\n",
        "  model.add(tf.keras.layers.Dense(150, activation='relu'))\n",
        "  model.add(tf.keras.layers.Dense(17, activation='softmax'))\n",
        "\n",
        "  return model\n",
        "\n",
        "def phase2_model(vgg_model, unfreeze_point):\n",
        "  \"\"\"\n",
        "  Unfreeze some of the trainable weights in VGG16 model layers \n",
        "  \"\"\"\n",
        "  vgg_model.trainable = True\n",
        "  trainable_flag = False\n",
        "\n",
        "  # Unfreeze all the layers after given layer (block4_conv1)\n",
        "  for layer in vgg_model.layers:\n",
        "    if layer.name ==unfreeze_point:\n",
        "      trainable_flag = True\n",
        "    layer.trainable = trainable_flag\n",
        "\n",
        "  model= tf.keras.models.Sequential()\n",
        "  model.add(vgg_model)\n",
        "  model.add(tf.keras.layers.Flatten())\n",
        "  model.add(tf.keras.layers.Dropout(0.5))\n",
        "  model.add(tf.keras.layers.Dense(500, activation='relu'))\n",
        "  model.add(tf.keras.layers.Dense(150, activation='relu'))\n",
        "  model.add(tf.keras.layers.Dense(17, activation='softmax'))\n",
        "\n",
        "  return model "
      ],
      "execution_count": 0,
      "outputs": []
    },
    {
      "cell_type": "markdown",
      "metadata": {
        "id": "XdRN4kIPAFR5",
        "colab_type": "text"
      },
      "source": [
        "### Results of Phase 1 of Fine tuning "
      ]
    },
    {
      "cell_type": "code",
      "metadata": {
        "id": "2IInWNBNAkRV",
        "colab_type": "code",
        "outputId": "16448be0-ea17-45cb-f351-04c350f471a4",
        "colab": {
          "base_uri": "https://localhost:8080/",
          "height": 1000
        }
      },
      "source": [
        "# Get the model from phase 1 \n",
        "model_phase1= phase1_model()\n",
        "\n",
        "# Train the model and specify the optimizer to be normal\n",
        "compile_train_plot(model_phase1, 'normal')"
      ],
      "execution_count": 0,
      "outputs": [
        {
          "output_type": "stream",
          "text": [
            "Compiling model...\n",
            "Model: \"sequential_25\"\n",
            "_________________________________________________________________\n",
            "Layer (type)                 Output Shape              Param #   \n",
            "=================================================================\n",
            "vgg16 (Model)                (None, 4, 4, 512)         14714688  \n",
            "_________________________________________________________________\n",
            "flatten_24 (Flatten)         (None, 8192)              0         \n",
            "_________________________________________________________________\n",
            "dropout_24 (Dropout)         (None, 8192)              0         \n",
            "_________________________________________________________________\n",
            "dense_68 (Dense)             (None, 500)               4096500   \n",
            "_________________________________________________________________\n",
            "dense_69 (Dense)             (None, 150)               75150     \n",
            "_________________________________________________________________\n",
            "dense_70 (Dense)             (None, 17)                2567      \n",
            "=================================================================\n",
            "Total params: 18,888,905\n",
            "Trainable params: 4,174,217\n",
            "Non-trainable params: 14,714,688\n",
            "_________________________________________________________________\n",
            "None\n",
            "Training network...\n",
            "Epoch 1/30\n",
            "32/32 [==============================] - 3s 93ms/step - loss: 2.8173 - accuracy: 0.1049 - val_loss: 2.4359 - val_accuracy: 0.2324\n",
            "Epoch 2/30\n",
            "32/32 [==============================] - 3s 89ms/step - loss: 2.4096 - accuracy: 0.2627 - val_loss: 1.9747 - val_accuracy: 0.4235\n",
            "Epoch 3/30\n",
            "32/32 [==============================] - 3s 88ms/step - loss: 2.0210 - accuracy: 0.3618 - val_loss: 1.6002 - val_accuracy: 0.5500\n",
            "Epoch 4/30\n",
            "32/32 [==============================] - 3s 87ms/step - loss: 1.7320 - accuracy: 0.4676 - val_loss: 1.5476 - val_accuracy: 0.4500\n",
            "Epoch 5/30\n",
            "32/32 [==============================] - 3s 88ms/step - loss: 1.5417 - accuracy: 0.5078 - val_loss: 2.0582 - val_accuracy: 0.3706\n",
            "Epoch 6/30\n",
            "32/32 [==============================] - 3s 88ms/step - loss: 1.4113 - accuracy: 0.5539 - val_loss: 1.1189 - val_accuracy: 0.6353\n",
            "Epoch 7/30\n",
            "32/32 [==============================] - 3s 88ms/step - loss: 1.2312 - accuracy: 0.6029 - val_loss: 0.9623 - val_accuracy: 0.6971\n",
            "Epoch 8/30\n",
            "32/32 [==============================] - 3s 88ms/step - loss: 1.1289 - accuracy: 0.6363 - val_loss: 0.9515 - val_accuracy: 0.6676\n",
            "Epoch 9/30\n",
            "32/32 [==============================] - 3s 89ms/step - loss: 0.9549 - accuracy: 0.7137 - val_loss: 0.8545 - val_accuracy: 0.7265\n",
            "Epoch 10/30\n",
            "32/32 [==============================] - 3s 88ms/step - loss: 0.9449 - accuracy: 0.7088 - val_loss: 0.8045 - val_accuracy: 0.7471\n",
            "Epoch 11/30\n",
            "32/32 [==============================] - 3s 88ms/step - loss: 0.8801 - accuracy: 0.7137 - val_loss: 0.8048 - val_accuracy: 0.7500\n",
            "Epoch 12/30\n",
            "32/32 [==============================] - 3s 89ms/step - loss: 0.7575 - accuracy: 0.7657 - val_loss: 0.7539 - val_accuracy: 0.7588\n",
            "Epoch 13/30\n",
            "32/32 [==============================] - 3s 88ms/step - loss: 0.7016 - accuracy: 0.7657 - val_loss: 0.7022 - val_accuracy: 0.7853\n",
            "Epoch 14/30\n",
            "32/32 [==============================] - 3s 88ms/step - loss: 0.6935 - accuracy: 0.7814 - val_loss: 0.7275 - val_accuracy: 0.7706\n",
            "Epoch 15/30\n",
            "32/32 [==============================] - 3s 88ms/step - loss: 0.6630 - accuracy: 0.7971 - val_loss: 0.6207 - val_accuracy: 0.7882\n",
            "Epoch 16/30\n",
            "32/32 [==============================] - 3s 89ms/step - loss: 0.5765 - accuracy: 0.8235 - val_loss: 0.5973 - val_accuracy: 0.8265\n",
            "Epoch 17/30\n",
            "32/32 [==============================] - 3s 90ms/step - loss: 0.5029 - accuracy: 0.8471 - val_loss: 0.5424 - val_accuracy: 0.8471\n",
            "Epoch 18/30\n",
            "32/32 [==============================] - 3s 88ms/step - loss: 0.5383 - accuracy: 0.8206 - val_loss: 0.6383 - val_accuracy: 0.8088\n",
            "Epoch 19/30\n",
            "32/32 [==============================] - 3s 88ms/step - loss: 0.4392 - accuracy: 0.8706 - val_loss: 0.6127 - val_accuracy: 0.8206\n",
            "Epoch 20/30\n",
            "32/32 [==============================] - 3s 89ms/step - loss: 0.4403 - accuracy: 0.8696 - val_loss: 0.7438 - val_accuracy: 0.7559\n",
            "Epoch 21/30\n",
            "32/32 [==============================] - 3s 89ms/step - loss: 0.4293 - accuracy: 0.8637 - val_loss: 0.6565 - val_accuracy: 0.7853\n",
            "Epoch 22/30\n",
            "32/32 [==============================] - 3s 88ms/step - loss: 0.3844 - accuracy: 0.8961 - val_loss: 0.4769 - val_accuracy: 0.8647\n",
            "Epoch 23/30\n",
            "32/32 [==============================] - 3s 88ms/step - loss: 0.3512 - accuracy: 0.8863 - val_loss: 0.4790 - val_accuracy: 0.8676\n",
            "Epoch 24/30\n",
            "32/32 [==============================] - 3s 88ms/step - loss: 0.3482 - accuracy: 0.8882 - val_loss: 0.5026 - val_accuracy: 0.8382\n",
            "Epoch 25/30\n",
            "32/32 [==============================] - 3s 88ms/step - loss: 0.3762 - accuracy: 0.8784 - val_loss: 0.5948 - val_accuracy: 0.8147\n",
            "Epoch 26/30\n",
            "32/32 [==============================] - 3s 89ms/step - loss: 0.2958 - accuracy: 0.9225 - val_loss: 0.4565 - val_accuracy: 0.8618\n",
            "Epoch 27/30\n",
            "32/32 [==============================] - 3s 88ms/step - loss: 0.3214 - accuracy: 0.8980 - val_loss: 0.4653 - val_accuracy: 0.8324\n",
            "Epoch 28/30\n",
            "32/32 [==============================] - 3s 87ms/step - loss: 0.2672 - accuracy: 0.9216 - val_loss: 0.5015 - val_accuracy: 0.8588\n",
            "Epoch 29/30\n",
            "32/32 [==============================] - 3s 88ms/step - loss: 0.2360 - accuracy: 0.9314 - val_loss: 0.4417 - val_accuracy: 0.8706\n",
            "Epoch 30/30\n",
            "32/32 [==============================] - 3s 89ms/step - loss: 0.2587 - accuracy: 0.9216 - val_loss: 0.5065 - val_accuracy: 0.8529\n"
          ],
          "name": "stdout"
        },
        {
          "output_type": "display_data",
          "data": {
            "image/png": "[encoded data removed]",
            "text/plain": [
              "<Figure size 432x288 with 1 Axes>"
            ]
          },
          "metadata": {
            "tags": []
          }
        },
        {
          "output_type": "stream",
          "text": [
            "11/11 [==============================] - 1s 58ms/step - loss: 0.5065 - accuracy: 0.8529\n",
            "The test set loss and accuracy is \n",
            " [0.5065008997917175, 0.8529411554336548]\n"
          ],
          "name": "stdout"
        }
      ]
    },
    {
      "cell_type": "markdown",
      "metadata": {
        "id": "FCRbZLt27jAA",
        "colab_type": "text"
      },
      "source": [
        "### Results of Phase 2 Fine Tuning with different configurations settings"
      ]
    },
    {
      "cell_type": "code",
      "metadata": {
        "id": "uMg1AaIZ6PbV",
        "colab_type": "code",
        "outputId": "1da51a4c-bad4-42db-cdfc-020292c09d5f",
        "colab": {
          "base_uri": "https://localhost:8080/",
          "height": 1000
        }
      },
      "source": [
        "vgg16 = tf.keras.applications.VGG16(include_top=False, input_shape=(128, 128, 3))\n",
        "\n",
        "# Set the unfreeze point in the VGG16 model \n",
        "unfreeze_point= 'block4_conv1'\n",
        "# Get the model from phase 2\n",
        "model_phase2= phase2_model(vgg16, unfreeze_point)\n",
        "\n",
        "# Train the model and specify the optimizer to be small \n",
        "compile_train_plot(model_phase2, 'small')"
      ],
      "execution_count": 0,
      "outputs": [
        {
          "output_type": "stream",
          "text": [
            "Compiling model...\n",
            "Model: \"sequential_22\"\n",
            "_________________________________________________________________\n",
            "Layer (type)                 Output Shape              Param #   \n",
            "=================================================================\n",
            "vgg16 (Model)                (None, 4, 4, 512)         14714688  \n",
            "_________________________________________________________________\n",
            "flatten_21 (Flatten)         (None, 8192)              0         \n",
            "_________________________________________________________________\n",
            "dropout_21 (Dropout)         (None, 8192)              0         \n",
            "_________________________________________________________________\n",
            "dense_59 (Dense)             (None, 500)               4096500   \n",
            "_________________________________________________________________\n",
            "dense_60 (Dense)             (None, 150)               75150     \n",
            "_________________________________________________________________\n",
            "dense_61 (Dense)             (None, 17)                2567      \n",
            "=================================================================\n",
            "Total params: 18,888,905\n",
            "Trainable params: 17,153,417\n",
            "Non-trainable params: 1,735,488\n",
            "_________________________________________________________________\n",
            "None\n",
            "Training network...\n",
            "Epoch 1/30\n",
            "32/32 [==============================] - 5s 141ms/step - loss: 2.9446 - accuracy: 0.0794 - val_loss: 2.6128 - val_accuracy: 0.1853\n",
            "Epoch 2/30\n",
            "32/32 [==============================] - 4s 130ms/step - loss: 2.6080 - accuracy: 0.1775 - val_loss: 2.1859 - val_accuracy: 0.4118\n",
            "Epoch 3/30\n",
            "32/32 [==============================] - 4s 130ms/step - loss: 2.1778 - accuracy: 0.3324 - val_loss: 1.6585 - val_accuracy: 0.5529\n",
            "Epoch 4/30\n",
            "32/32 [==============================] - 4s 129ms/step - loss: 1.7288 - accuracy: 0.4755 - val_loss: 1.2510 - val_accuracy: 0.6382\n",
            "Epoch 5/30\n",
            "32/32 [==============================] - 4s 129ms/step - loss: 1.3999 - accuracy: 0.5578 - val_loss: 0.9834 - val_accuracy: 0.7265\n",
            "Epoch 6/30\n",
            "32/32 [==============================] - 4s 129ms/step - loss: 1.0733 - accuracy: 0.6608 - val_loss: 0.7800 - val_accuracy: 0.7676\n",
            "Epoch 7/30\n",
            "32/32 [==============================] - 4s 130ms/step - loss: 0.8556 - accuracy: 0.7343 - val_loss: 0.6498 - val_accuracy: 0.8147\n",
            "Epoch 8/30\n",
            "32/32 [==============================] - 4s 131ms/step - loss: 0.7245 - accuracy: 0.7765 - val_loss: 0.5680 - val_accuracy: 0.8588\n",
            "Epoch 9/30\n",
            "32/32 [==============================] - 4s 130ms/step - loss: 0.5566 - accuracy: 0.8284 - val_loss: 0.5144 - val_accuracy: 0.8647\n",
            "Epoch 10/30\n",
            "32/32 [==============================] - 4s 130ms/step - loss: 0.4714 - accuracy: 0.8578 - val_loss: 0.4845 - val_accuracy: 0.8706\n",
            "Epoch 11/30\n",
            "32/32 [==============================] - 4s 131ms/step - loss: 0.3965 - accuracy: 0.8735 - val_loss: 0.4841 - val_accuracy: 0.8706\n",
            "Epoch 12/30\n",
            "32/32 [==============================] - 4s 130ms/step - loss: 0.3187 - accuracy: 0.8961 - val_loss: 0.4151 - val_accuracy: 0.8735\n",
            "Epoch 13/30\n",
            "32/32 [==============================] - 4s 130ms/step - loss: 0.2582 - accuracy: 0.9098 - val_loss: 0.4199 - val_accuracy: 0.8676\n",
            "Epoch 14/30\n",
            "32/32 [==============================] - 4s 131ms/step - loss: 0.2024 - accuracy: 0.9422 - val_loss: 0.3702 - val_accuracy: 0.8971\n",
            "Epoch 15/30\n",
            "32/32 [==============================] - 4s 130ms/step - loss: 0.1640 - accuracy: 0.9451 - val_loss: 0.3861 - val_accuracy: 0.8971\n",
            "Epoch 16/30\n",
            "32/32 [==============================] - 4s 132ms/step - loss: 0.1246 - accuracy: 0.9618 - val_loss: 0.4015 - val_accuracy: 0.9000\n",
            "Epoch 17/30\n",
            "32/32 [==============================] - 4s 131ms/step - loss: 0.1315 - accuracy: 0.9686 - val_loss: 0.3616 - val_accuracy: 0.8941\n",
            "Epoch 18/30\n",
            "32/32 [==============================] - 4s 131ms/step - loss: 0.0869 - accuracy: 0.9765 - val_loss: 0.3676 - val_accuracy: 0.9000\n",
            "Epoch 19/30\n",
            "32/32 [==============================] - 4s 131ms/step - loss: 0.0727 - accuracy: 0.9775 - val_loss: 0.4291 - val_accuracy: 0.8765\n",
            "Epoch 20/30\n",
            "32/32 [==============================] - 4s 130ms/step - loss: 0.0653 - accuracy: 0.9804 - val_loss: 0.4109 - val_accuracy: 0.9000\n",
            "Epoch 21/30\n",
            "32/32 [==============================] - 4s 131ms/step - loss: 0.0690 - accuracy: 0.9794 - val_loss: 0.3282 - val_accuracy: 0.9147\n",
            "Epoch 22/30\n",
            "32/32 [==============================] - 4s 132ms/step - loss: 0.0545 - accuracy: 0.9843 - val_loss: 0.4818 - val_accuracy: 0.8735\n",
            "Epoch 23/30\n",
            "32/32 [==============================] - 4s 131ms/step - loss: 0.0472 - accuracy: 0.9873 - val_loss: 0.3348 - val_accuracy: 0.9206\n",
            "Epoch 24/30\n",
            "32/32 [==============================] - 4s 132ms/step - loss: 0.0371 - accuracy: 0.9912 - val_loss: 0.3519 - val_accuracy: 0.9059\n",
            "Epoch 25/30\n",
            "32/32 [==============================] - 4s 132ms/step - loss: 0.0425 - accuracy: 0.9892 - val_loss: 0.3831 - val_accuracy: 0.9000\n",
            "Epoch 26/30\n",
            "32/32 [==============================] - 4s 131ms/step - loss: 0.0270 - accuracy: 0.9931 - val_loss: 0.3750 - val_accuracy: 0.9176\n",
            "Epoch 27/30\n",
            "32/32 [==============================] - 4s 131ms/step - loss: 0.0142 - accuracy: 0.9980 - val_loss: 0.3990 - val_accuracy: 0.9147\n",
            "Epoch 28/30\n",
            "32/32 [==============================] - 4s 131ms/step - loss: 0.0191 - accuracy: 0.9941 - val_loss: 0.3277 - val_accuracy: 0.9118\n",
            "Epoch 29/30\n",
            "32/32 [==============================] - 4s 132ms/step - loss: 0.0315 - accuracy: 0.9931 - val_loss: 0.4052 - val_accuracy: 0.9029\n",
            "Epoch 30/30\n",
            "32/32 [==============================] - 4s 131ms/step - loss: 0.0184 - accuracy: 0.9961 - val_loss: 0.3448 - val_accuracy: 0.9147\n"
          ],
          "name": "stdout"
        },
        {
          "output_type": "display_data",
          "data": {
            "image/png": "[encoded data removed]",
            "text/plain": [
              "<Figure size 432x288 with 1 Axes>"
            ]
          },
          "metadata": {
            "tags": []
          }
        },
        {
          "output_type": "stream",
          "text": [
            "11/11 [==============================] - 1s 58ms/step - loss: 0.3448 - accuracy: 0.9147\n",
            "The test set loss and accuracy is \n",
            " [0.3447767496109009, 0.9147058725357056]\n"
          ],
          "name": "stdout"
        }
      ]
    },
    {
      "cell_type": "code",
      "metadata": {
        "id": "yfXDdK4xKVmU",
        "colab_type": "code",
        "outputId": "5d1c9f3a-ed20-4b87-8b86-1151284b15df",
        "colab": {
          "base_uri": "https://localhost:8080/",
          "height": 1000
        }
      },
      "source": [
        "vgg16 = tf.keras.applications.VGG16(include_top=False, input_shape=(128, 128, 3))\n",
        "\n",
        "# Set the unfreeze point in the VGG16 model \n",
        "unfreeze_point= 'block5_conv1'\n",
        "# Get the model from phase 2\n",
        "model_phase2= phase2_model(vgg16, unfreeze_point)\n",
        "\n",
        "# Train the model and specify the optimizer to be small \n",
        "compile_train_plot(model_phase2, 'small')"
      ],
      "execution_count": 0,
      "outputs": [
        {
          "output_type": "stream",
          "text": [
            "Compiling model...\n",
            "Model: \"sequential_26\"\n",
            "_________________________________________________________________\n",
            "Layer (type)                 Output Shape              Param #   \n",
            "=================================================================\n",
            "vgg16 (Model)                (None, 4, 4, 512)         14714688  \n",
            "_________________________________________________________________\n",
            "flatten_25 (Flatten)         (None, 8192)              0         \n",
            "_________________________________________________________________\n",
            "dropout_25 (Dropout)         (None, 8192)              0         \n",
            "_________________________________________________________________\n",
            "dense_71 (Dense)             (None, 500)               4096500   \n",
            "_________________________________________________________________\n",
            "dense_72 (Dense)             (None, 150)               75150     \n",
            "_________________________________________________________________\n",
            "dense_73 (Dense)             (None, 17)                2567      \n",
            "=================================================================\n",
            "Total params: 18,888,905\n",
            "Trainable params: 11,253,641\n",
            "Non-trainable params: 7,635,264\n",
            "_________________________________________________________________\n",
            "None\n",
            "Training network...\n",
            "Epoch 1/30\n",
            "32/32 [==============================] - 4s 110ms/step - loss: 3.1182 - accuracy: 0.0549 - val_loss: 2.7400 - val_accuracy: 0.1324\n",
            "Epoch 2/30\n",
            "32/32 [==============================] - 3s 104ms/step - loss: 2.7711 - accuracy: 0.1275 - val_loss: 2.4812 - val_accuracy: 0.3206\n",
            "Epoch 3/30\n",
            "32/32 [==============================] - 3s 104ms/step - loss: 2.5094 - accuracy: 0.2186 - val_loss: 2.1578 - val_accuracy: 0.5059\n",
            "Epoch 4/30\n",
            "32/32 [==============================] - 3s 104ms/step - loss: 2.1967 - accuracy: 0.3529 - val_loss: 1.7851 - val_accuracy: 0.6382\n",
            "Epoch 5/30\n",
            "32/32 [==============================] - 3s 104ms/step - loss: 1.8664 - accuracy: 0.4490 - val_loss: 1.4662 - val_accuracy: 0.6735\n",
            "Epoch 6/30\n",
            "32/32 [==============================] - 3s 104ms/step - loss: 1.5817 - accuracy: 0.5294 - val_loss: 1.1953 - val_accuracy: 0.7176\n",
            "Epoch 7/30\n",
            "32/32 [==============================] - 3s 105ms/step - loss: 1.3222 - accuracy: 0.6078 - val_loss: 0.9758 - val_accuracy: 0.7706\n",
            "Epoch 8/30\n",
            "32/32 [==============================] - 3s 104ms/step - loss: 1.1445 - accuracy: 0.6716 - val_loss: 0.8466 - val_accuracy: 0.7765\n",
            "Epoch 9/30\n",
            "32/32 [==============================] - 3s 104ms/step - loss: 0.9571 - accuracy: 0.6990 - val_loss: 0.7209 - val_accuracy: 0.7971\n",
            "Epoch 10/30\n",
            "32/32 [==============================] - 3s 105ms/step - loss: 0.7811 - accuracy: 0.7745 - val_loss: 0.6341 - val_accuracy: 0.8294\n",
            "Epoch 11/30\n",
            "32/32 [==============================] - 3s 105ms/step - loss: 0.6713 - accuracy: 0.8118 - val_loss: 0.5974 - val_accuracy: 0.8353\n",
            "Epoch 12/30\n",
            "32/32 [==============================] - 3s 105ms/step - loss: 0.5807 - accuracy: 0.8235 - val_loss: 0.5392 - val_accuracy: 0.8353\n",
            "Epoch 13/30\n",
            "32/32 [==============================] - 3s 105ms/step - loss: 0.4864 - accuracy: 0.8686 - val_loss: 0.5139 - val_accuracy: 0.8412\n",
            "Epoch 14/30\n",
            "32/32 [==============================] - 3s 105ms/step - loss: 0.3976 - accuracy: 0.8843 - val_loss: 0.4684 - val_accuracy: 0.8559\n",
            "Epoch 15/30\n",
            "32/32 [==============================] - 3s 105ms/step - loss: 0.3485 - accuracy: 0.8980 - val_loss: 0.4336 - val_accuracy: 0.8735\n",
            "Epoch 16/30\n",
            "32/32 [==============================] - 3s 105ms/step - loss: 0.2911 - accuracy: 0.9294 - val_loss: 0.4320 - val_accuracy: 0.8559\n",
            "Epoch 17/30\n",
            "32/32 [==============================] - 3s 104ms/step - loss: 0.2359 - accuracy: 0.9382 - val_loss: 0.4153 - val_accuracy: 0.8676\n",
            "Epoch 18/30\n",
            "32/32 [==============================] - 3s 105ms/step - loss: 0.1783 - accuracy: 0.9559 - val_loss: 0.4038 - val_accuracy: 0.8647\n",
            "Epoch 19/30\n",
            "32/32 [==============================] - 3s 105ms/step - loss: 0.1893 - accuracy: 0.9471 - val_loss: 0.4079 - val_accuracy: 0.8676\n",
            "Epoch 20/30\n",
            "32/32 [==============================] - 3s 105ms/step - loss: 0.1480 - accuracy: 0.9647 - val_loss: 0.4114 - val_accuracy: 0.8676\n",
            "Epoch 21/30\n",
            "32/32 [==============================] - 3s 106ms/step - loss: 0.1189 - accuracy: 0.9706 - val_loss: 0.3879 - val_accuracy: 0.8765\n",
            "Epoch 22/30\n",
            "32/32 [==============================] - 3s 105ms/step - loss: 0.1032 - accuracy: 0.9725 - val_loss: 0.3752 - val_accuracy: 0.8735\n",
            "Epoch 23/30\n",
            "32/32 [==============================] - 3s 105ms/step - loss: 0.0841 - accuracy: 0.9824 - val_loss: 0.3726 - val_accuracy: 0.8824\n",
            "Epoch 24/30\n",
            "32/32 [==============================] - 3s 106ms/step - loss: 0.0863 - accuracy: 0.9814 - val_loss: 0.3959 - val_accuracy: 0.8676\n",
            "Epoch 25/30\n",
            "32/32 [==============================] - 3s 106ms/step - loss: 0.0664 - accuracy: 0.9863 - val_loss: 0.3667 - val_accuracy: 0.8853\n",
            "Epoch 26/30\n",
            "32/32 [==============================] - 3s 105ms/step - loss: 0.0652 - accuracy: 0.9853 - val_loss: 0.3688 - val_accuracy: 0.8882\n",
            "Epoch 27/30\n",
            "32/32 [==============================] - 3s 106ms/step - loss: 0.0523 - accuracy: 0.9873 - val_loss: 0.3674 - val_accuracy: 0.8882\n",
            "Epoch 28/30\n",
            "32/32 [==============================] - 3s 105ms/step - loss: 0.0421 - accuracy: 0.9941 - val_loss: 0.3675 - val_accuracy: 0.8853\n",
            "Epoch 29/30\n",
            "32/32 [==============================] - 3s 105ms/step - loss: 0.0352 - accuracy: 0.9902 - val_loss: 0.3429 - val_accuracy: 0.8882\n",
            "Epoch 30/30\n",
            "32/32 [==============================] - 3s 105ms/step - loss: 0.0344 - accuracy: 0.9941 - val_loss: 0.4074 - val_accuracy: 0.8794\n"
          ],
          "name": "stdout"
        },
        {
          "output_type": "display_data",
          "data": {
            "image/png": "[encoded data removed]",
            "text/plain": [
              "<Figure size 432x288 with 1 Axes>"
            ]
          },
          "metadata": {
            "tags": []
          }
        },
        {
          "output_type": "stream",
          "text": [
            "11/11 [==============================] - 1s 58ms/step - loss: 0.4074 - accuracy: 0.8794\n",
            "The test set loss and accuracy is \n",
            " [0.40743955969810486, 0.8794117569923401]\n"
          ],
          "name": "stdout"
        }
      ]
    },
    {
      "cell_type": "code",
      "metadata": {
        "id": "NRKStI8-PfVT",
        "colab_type": "code",
        "outputId": "6fa8ef03-f860-4a9a-ae54-a3371e07acf7",
        "colab": {
          "base_uri": "https://localhost:8080/",
          "height": 1000
        }
      },
      "source": [
        "vgg16 = tf.keras.applications.VGG16(include_top=False, input_shape=(128, 128, 3))\n",
        "\n",
        "# Set the unfreeze point in the VGG16 model \n",
        "unfreeze_point= 'block3_conv1'\n",
        "# Get the model from phase 2\n",
        "model_phase2= phase2_model(vgg16, unfreeze_point)\n",
        "\n",
        "# Train the model and specify the optimizer to be small \n",
        "compile_train_plot(model_phase2, 'small')"
      ],
      "execution_count": 0,
      "outputs": [
        {
          "output_type": "stream",
          "text": [
            "Compiling model...\n",
            "Model: \"sequential_27\"\n",
            "_________________________________________________________________\n",
            "Layer (type)                 Output Shape              Param #   \n",
            "=================================================================\n",
            "vgg16 (Model)                (None, 4, 4, 512)         14714688  \n",
            "_________________________________________________________________\n",
            "flatten_26 (Flatten)         (None, 8192)              0         \n",
            "_________________________________________________________________\n",
            "dropout_26 (Dropout)         (None, 8192)              0         \n",
            "_________________________________________________________________\n",
            "dense_74 (Dense)             (None, 500)               4096500   \n",
            "_________________________________________________________________\n",
            "dense_75 (Dense)             (None, 150)               75150     \n",
            "_________________________________________________________________\n",
            "dense_76 (Dense)             (None, 17)                2567      \n",
            "=================================================================\n",
            "Total params: 18,888,905\n",
            "Trainable params: 18,628,745\n",
            "Non-trainable params: 260,160\n",
            "_________________________________________________________________\n",
            "None\n",
            "Training network...\n",
            "Epoch 1/30\n",
            "32/32 [==============================] - 6s 174ms/step - loss: 2.9664 - accuracy: 0.0706 - val_loss: 2.6384 - val_accuracy: 0.2118\n",
            "Epoch 2/30\n",
            "32/32 [==============================] - 5s 153ms/step - loss: 2.5959 - accuracy: 0.1882 - val_loss: 2.1744 - val_accuracy: 0.4059\n",
            "Epoch 3/30\n",
            "32/32 [==============================] - 5s 154ms/step - loss: 2.1276 - accuracy: 0.3598 - val_loss: 1.6217 - val_accuracy: 0.5382\n",
            "Epoch 4/30\n",
            "32/32 [==============================] - 5s 155ms/step - loss: 1.6441 - accuracy: 0.4990 - val_loss: 1.2346 - val_accuracy: 0.6500\n",
            "Epoch 5/30\n",
            "32/32 [==============================] - 5s 154ms/step - loss: 1.2861 - accuracy: 0.5951 - val_loss: 0.9479 - val_accuracy: 0.7294\n",
            "Epoch 6/30\n",
            "32/32 [==============================] - 5s 153ms/step - loss: 1.0182 - accuracy: 0.6814 - val_loss: 0.8137 - val_accuracy: 0.7529\n",
            "Epoch 7/30\n",
            "32/32 [==============================] - 5s 154ms/step - loss: 0.7865 - accuracy: 0.7480 - val_loss: 0.6742 - val_accuracy: 0.8000\n",
            "Epoch 8/30\n",
            "32/32 [==============================] - 5s 154ms/step - loss: 0.6452 - accuracy: 0.7941 - val_loss: 0.5747 - val_accuracy: 0.8176\n",
            "Epoch 9/30\n",
            "32/32 [==============================] - 5s 154ms/step - loss: 0.5156 - accuracy: 0.8392 - val_loss: 0.5411 - val_accuracy: 0.8324\n",
            "Epoch 10/30\n",
            "32/32 [==============================] - 5s 154ms/step - loss: 0.4221 - accuracy: 0.8647 - val_loss: 0.4665 - val_accuracy: 0.8559\n",
            "Epoch 11/30\n",
            "32/32 [==============================] - 5s 154ms/step - loss: 0.3252 - accuracy: 0.8951 - val_loss: 0.4851 - val_accuracy: 0.8412\n",
            "Epoch 12/30\n",
            "32/32 [==============================] - 5s 154ms/step - loss: 0.2979 - accuracy: 0.9049 - val_loss: 0.4423 - val_accuracy: 0.8676\n",
            "Epoch 13/30\n",
            "32/32 [==============================] - 5s 154ms/step - loss: 0.2367 - accuracy: 0.9265 - val_loss: 0.4451 - val_accuracy: 0.8618\n",
            "Epoch 14/30\n",
            "32/32 [==============================] - 5s 155ms/step - loss: 0.1858 - accuracy: 0.9451 - val_loss: 0.3681 - val_accuracy: 0.8765\n",
            "Epoch 15/30\n",
            "32/32 [==============================] - 5s 155ms/step - loss: 0.1644 - accuracy: 0.9490 - val_loss: 0.3984 - val_accuracy: 0.8706\n",
            "Epoch 16/30\n",
            "32/32 [==============================] - 5s 155ms/step - loss: 0.1271 - accuracy: 0.9647 - val_loss: 0.3626 - val_accuracy: 0.8824\n",
            "Epoch 17/30\n",
            "32/32 [==============================] - 5s 155ms/step - loss: 0.1308 - accuracy: 0.9608 - val_loss: 0.3553 - val_accuracy: 0.8941\n",
            "Epoch 18/30\n",
            "32/32 [==============================] - 5s 155ms/step - loss: 0.0939 - accuracy: 0.9716 - val_loss: 0.3355 - val_accuracy: 0.9059\n",
            "Epoch 19/30\n",
            "32/32 [==============================] - 5s 155ms/step - loss: 0.0771 - accuracy: 0.9745 - val_loss: 0.4399 - val_accuracy: 0.8794\n",
            "Epoch 20/30\n",
            "32/32 [==============================] - 5s 155ms/step - loss: 0.0639 - accuracy: 0.9833 - val_loss: 0.3294 - val_accuracy: 0.8971\n",
            "Epoch 21/30\n",
            "32/32 [==============================] - 5s 155ms/step - loss: 0.0692 - accuracy: 0.9745 - val_loss: 0.4360 - val_accuracy: 0.8647\n",
            "Epoch 22/30\n",
            "32/32 [==============================] - 5s 155ms/step - loss: 0.0502 - accuracy: 0.9863 - val_loss: 0.3241 - val_accuracy: 0.9176\n",
            "Epoch 23/30\n",
            "32/32 [==============================] - 5s 155ms/step - loss: 0.0513 - accuracy: 0.9863 - val_loss: 0.3471 - val_accuracy: 0.8941\n",
            "Epoch 24/30\n",
            "32/32 [==============================] - 5s 155ms/step - loss: 0.0433 - accuracy: 0.9873 - val_loss: 0.3767 - val_accuracy: 0.8853\n",
            "Epoch 25/30\n",
            "32/32 [==============================] - 5s 155ms/step - loss: 0.0199 - accuracy: 0.9971 - val_loss: 0.3584 - val_accuracy: 0.9118\n",
            "Epoch 26/30\n",
            "32/32 [==============================] - 5s 155ms/step - loss: 0.0275 - accuracy: 0.9912 - val_loss: 0.3860 - val_accuracy: 0.8912\n",
            "Epoch 27/30\n",
            "32/32 [==============================] - 5s 155ms/step - loss: 0.0212 - accuracy: 0.9961 - val_loss: 0.3643 - val_accuracy: 0.9176\n",
            "Epoch 28/30\n",
            "32/32 [==============================] - 5s 154ms/step - loss: 0.0248 - accuracy: 0.9931 - val_loss: 0.3413 - val_accuracy: 0.9147\n",
            "Epoch 29/30\n",
            "32/32 [==============================] - 5s 154ms/step - loss: 0.0312 - accuracy: 0.9912 - val_loss: 0.4338 - val_accuracy: 0.8735\n",
            "Epoch 30/30\n",
            "32/32 [==============================] - 5s 155ms/step - loss: 0.0211 - accuracy: 0.9941 - val_loss: 0.3968 - val_accuracy: 0.9059\n"
          ],
          "name": "stdout"
        },
        {
          "output_type": "display_data",
          "data": {
            "image/png": "[encoded data removed]",
            "text/plain": [
              "<Figure size 432x288 with 1 Axes>"
            ]
          },
          "metadata": {
            "tags": []
          }
        },
        {
          "output_type": "stream",
          "text": [
            "11/11 [==============================] - 1s 59ms/step - loss: 0.3968 - accuracy: 0.9059\n",
            "The test set loss and accuracy is \n",
            " [0.3967837691307068, 0.9058823585510254]\n"
          ],
          "name": "stdout"
        }
      ]
    },
    {
      "cell_type": "markdown",
      "metadata": {
        "id": "iMhpaoq9ySCO",
        "colab_type": "text"
      },
      "source": [
        "### Application of Data Augmentation technique on Configuration setting 1(came out to be best from above) "
      ]
    },
    {
      "cell_type": "code",
      "metadata": {
        "id": "XQ1ueXdTQWsS",
        "colab_type": "code",
        "colab": {}
      },
      "source": [
        "def get_generator_objects():\n",
        "  \"\"\"\n",
        "  This function returns the generator objects for training and validation data \n",
        "  \"\"\"\n",
        "  # ---------------------- DATA AUGMENTATION CONFIGURATION 1------------------------------------\n",
        "\n",
        "  train_data_generator1 = tf.keras.preprocessing.image.ImageDataGenerator(\n",
        "      zoom_range=-0.2,\n",
        "      shear_range=0.2,\n",
        "      vertical_flip=False,\n",
        "      rotation_range=30,\n",
        "      horizontal_flip=True)\n",
        "  \n",
        "  # ---------------------- DATA AUGMENTATION CONFIGURATION 2------------------------------------\n",
        "\n",
        "  train_data_generator2 = tf.keras.preprocessing.image.ImageDataGenerator(\n",
        "      zoom_range=-0.2,\n",
        "      shear_range=0.2,\n",
        "      vertical_flip=True,\n",
        "      rotation_range=30,\n",
        "      horizontal_flip=False,\n",
        "      height_shift_range=0.1,\n",
        "      width_shift_range=0.1)\n",
        "  \n",
        "  validation_data_generator = tf.keras.preprocessing.image.ImageDataGenerator(\n",
        "      rescale=1.0/255)\n",
        "    \n",
        "  train_generator1 = train_data_generator1.flow(X_train, y_train)\n",
        "  train_generator2 = train_data_generator2.flow(X_train, y_train)\n",
        "  validation_generator= validation_data_generator.flow(X_test, y_test)\n",
        "  \n",
        "  return train_generator1, train_generator2, validation_generator\n",
        "\n",
        "def train_with_DA(model, train_generator):\n",
        "  \"\"\"\n",
        "  DA------> Data Augmentation \n",
        "  This function compiles and train the model and produce the desired results \n",
        "  \"\"\"\n",
        "  # Specify the number of epochs \n",
        "  NUM_EPOCHS = 60\n",
        "\n",
        "  # Initialize the optimizer and model\n",
        "  print(\"Compiling model...\")\n",
        "\n",
        "  # Set the optimizer \n",
        "  opt= tf.keras.optimizers.RMSprop(lr=1e-5)\n",
        "\n",
        "  # Print the model settings \n",
        "  print (model.summary())\n",
        "\n",
        "  # Compile the model \n",
        "  model.compile(loss=\"sparse_categorical_crossentropy\", optimizer=opt, metrics=[\"accuracy\"])\n",
        "\n",
        "#-------------------------------------- CODE FOR TRAINING THE MODEL--------------------------------------------------------\n",
        "\n",
        "  # Train the network\n",
        "  batchSize= 64\n",
        "  train_steps = X_train.shape[0] // batchSize\n",
        "  validation_steps = X_test.shape[0] // batchSize\n",
        "\n",
        "  print(\"Training network...\")\n",
        "  history= model.fit(train_generator, steps_per_epoch= train_steps,\n",
        "                     epochs= NUM_EPOCHS,\n",
        "                     validation_data= (X_test, y_test), validation_steps=validation_steps)\n",
        "\n",
        "#-----------------------CODE FOR PLOTTING THE TRAINING LOSS AND ACCURACY & VALIDATION LOSS AND ACCURACY-------------------------- \n",
        "\n",
        "  plt.style.use(\"ggplot\")\n",
        "  plt.figure()\n",
        "\n",
        "  upper_limit= NUM_EPOCHS\n",
        "  plt.plot(np.arange(0, upper_limit), history.history[\"loss\"], label=\"train_loss\")\n",
        "  plt.plot(np.arange(0, upper_limit), history.history[\"val_loss\"], label=\"val_loss\")\n",
        "  plt.plot(np.arange(0, upper_limit), history.history[\"accuracy\"], label=\"train_acc\")\n",
        "  plt.plot(np.arange(0, upper_limit), history.history[\"val_accuracy\"], label=\"val_acc\")\n",
        "  plt.title(\"Number of Epochs vs Training/Validation Loss and Accuracy\")\n",
        "  plt.xlabel(\"Number of Epochs\")\n",
        "  plt.ylabel(\"Loss/Accuracy\")\n",
        "  plt.legend()\n",
        "  plt.show()\n",
        "#------------------------------ TEST SET RESULTS-------------------------------------------------\n",
        "\n",
        "  # Get the predictions from our basic model \n",
        "  results= model.evaluate(X_test, y_test)\n",
        "  # Print the test set loss and the accuracy \n",
        "  print(\"The test set loss and accuracy is \\n\",results)"
      ],
      "execution_count": 0,
      "outputs": []
    },
    {
      "cell_type": "markdown",
      "metadata": {
        "id": "0W1AhLkW9Hw3",
        "colab_type": "text"
      },
      "source": [
        "### Data Augmentation Configuration 1 with best model obtained "
      ]
    },
    {
      "cell_type": "code",
      "metadata": {
        "id": "cm4e5dw10y0R",
        "colab_type": "code",
        "colab": {
          "base_uri": "https://localhost:8080/",
          "height": 1000
        },
        "outputId": "48c6303d-4811-42c0-f023-886c47be1b27"
      },
      "source": [
        "vgg16 = tf.keras.applications.VGG16(include_top=False, input_shape=(128, 128, 3))\n",
        "\n",
        "# Set the unfreeze point in the VGG16 model \n",
        "unfreeze_point= 'block4_conv1'\n",
        "# Get the model from phase 2\n",
        "model_phase2= phase2_model(vgg16, unfreeze_point)\n",
        "\n",
        "# Get the generator objects for training and validation \n",
        "train_generator1, train_generator2, validation_generator= get_generator_objects()\n",
        "\n",
        "# Compile and train the model with data augmentation and produce the plots \n",
        "train_with_DA(model_phase2, train_generator1)"
      ],
      "execution_count": 66,
      "outputs": [
        {
          "output_type": "stream",
          "text": [
            "Compiling model...\n",
            "Model: \"sequential_27\"\n",
            "_________________________________________________________________\n",
            "Layer (type)                 Output Shape              Param #   \n",
            "=================================================================\n",
            "vgg16 (Model)                (None, 4, 4, 512)         14714688  \n",
            "_________________________________________________________________\n",
            "flatten_27 (Flatten)         (None, 8192)              0         \n",
            "_________________________________________________________________\n",
            "dropout_27 (Dropout)         (None, 8192)              0         \n",
            "_________________________________________________________________\n",
            "dense_81 (Dense)             (None, 500)               4096500   \n",
            "_________________________________________________________________\n",
            "dense_82 (Dense)             (None, 150)               75150     \n",
            "_________________________________________________________________\n",
            "dense_83 (Dense)             (None, 17)                2567      \n",
            "=================================================================\n",
            "Total params: 18,888,905\n",
            "Trainable params: 17,153,417\n",
            "Non-trainable params: 1,735,488\n",
            "_________________________________________________________________\n",
            "None\n",
            "Training network...\n",
            "Epoch 1/60\n",
            "15/15 [==============================] - 2s 145ms/step - loss: 2.9505 - accuracy: 0.1187 - val_loss: 2.6982 - val_accuracy: 0.1471\n",
            "Epoch 2/60\n",
            "15/15 [==============================] - 2s 136ms/step - loss: 2.7905 - accuracy: 0.1042 - val_loss: 2.5336 - val_accuracy: 0.2324\n",
            "Epoch 3/60\n",
            "15/15 [==============================] - 2s 132ms/step - loss: 2.6587 - accuracy: 0.1744 - val_loss: 2.3386 - val_accuracy: 0.3235\n",
            "Epoch 4/60\n",
            "15/15 [==============================] - 2s 132ms/step - loss: 2.4883 - accuracy: 0.2042 - val_loss: 2.1279 - val_accuracy: 0.4588\n",
            "Epoch 5/60\n",
            "15/15 [==============================] - 2s 134ms/step - loss: 2.3243 - accuracy: 0.2794 - val_loss: 1.8780 - val_accuracy: 0.5265\n",
            "Epoch 6/60\n",
            "15/15 [==============================] - 2s 133ms/step - loss: 2.2048 - accuracy: 0.3375 - val_loss: 1.6773 - val_accuracy: 0.5912\n",
            "Epoch 7/60\n",
            "15/15 [==============================] - 2s 134ms/step - loss: 2.0035 - accuracy: 0.3908 - val_loss: 1.4380 - val_accuracy: 0.6676\n",
            "Epoch 8/60\n",
            "15/15 [==============================] - 2s 135ms/step - loss: 1.7725 - accuracy: 0.4812 - val_loss: 1.2607 - val_accuracy: 0.6971\n",
            "Epoch 9/60\n",
            "15/15 [==============================] - 2s 134ms/step - loss: 1.6748 - accuracy: 0.4643 - val_loss: 1.1454 - val_accuracy: 0.7088\n",
            "Epoch 10/60\n",
            "15/15 [==============================] - 2s 134ms/step - loss: 1.5460 - accuracy: 0.5208 - val_loss: 0.9951 - val_accuracy: 0.7382\n",
            "Epoch 11/60\n",
            "15/15 [==============================] - 2s 134ms/step - loss: 1.4513 - accuracy: 0.5336 - val_loss: 0.8955 - val_accuracy: 0.7529\n",
            "Epoch 12/60\n",
            "15/15 [==============================] - 2s 134ms/step - loss: 1.3713 - accuracy: 0.5750 - val_loss: 0.8585 - val_accuracy: 0.7794\n",
            "Epoch 13/60\n",
            "15/15 [==============================] - 2s 131ms/step - loss: 1.1813 - accuracy: 0.6534 - val_loss: 0.7656 - val_accuracy: 0.7765\n",
            "Epoch 14/60\n",
            "15/15 [==============================] - 2s 134ms/step - loss: 1.2089 - accuracy: 0.6104 - val_loss: 0.6944 - val_accuracy: 0.8265\n",
            "Epoch 15/60\n",
            "15/15 [==============================] - 2s 131ms/step - loss: 1.1002 - accuracy: 0.6555 - val_loss: 0.6840 - val_accuracy: 0.7912\n",
            "Epoch 16/60\n",
            "15/15 [==============================] - 2s 133ms/step - loss: 1.0089 - accuracy: 0.6812 - val_loss: 0.6230 - val_accuracy: 0.8235\n",
            "Epoch 17/60\n",
            "15/15 [==============================] - 2s 135ms/step - loss: 0.9324 - accuracy: 0.7083 - val_loss: 0.5548 - val_accuracy: 0.8353\n",
            "Epoch 18/60\n",
            "15/15 [==============================] - 2s 134ms/step - loss: 0.8776 - accuracy: 0.7038 - val_loss: 0.5397 - val_accuracy: 0.8500\n",
            "Epoch 19/60\n",
            "15/15 [==============================] - 2s 132ms/step - loss: 0.8491 - accuracy: 0.7229 - val_loss: 0.5196 - val_accuracy: 0.8353\n",
            "Epoch 20/60\n",
            "15/15 [==============================] - 2s 132ms/step - loss: 0.8310 - accuracy: 0.7269 - val_loss: 0.5056 - val_accuracy: 0.8441\n",
            "Epoch 21/60\n",
            "15/15 [==============================] - 2s 133ms/step - loss: 0.7281 - accuracy: 0.7875 - val_loss: 0.4262 - val_accuracy: 0.8735\n",
            "Epoch 22/60\n",
            "15/15 [==============================] - 2s 132ms/step - loss: 0.7607 - accuracy: 0.7332 - val_loss: 0.5238 - val_accuracy: 0.8294\n",
            "Epoch 23/60\n",
            "15/15 [==============================] - 2s 135ms/step - loss: 0.6563 - accuracy: 0.7708 - val_loss: 0.4084 - val_accuracy: 0.8794\n",
            "Epoch 24/60\n",
            "15/15 [==============================] - 2s 134ms/step - loss: 0.6140 - accuracy: 0.7962 - val_loss: 0.4196 - val_accuracy: 0.8794\n",
            "Epoch 25/60\n",
            "15/15 [==============================] - 2s 135ms/step - loss: 0.6344 - accuracy: 0.7812 - val_loss: 0.3633 - val_accuracy: 0.8971\n",
            "Epoch 26/60\n",
            "15/15 [==============================] - 2s 135ms/step - loss: 0.6478 - accuracy: 0.8025 - val_loss: 0.3527 - val_accuracy: 0.9088\n",
            "Epoch 27/60\n",
            "15/15 [==============================] - 2s 136ms/step - loss: 0.5279 - accuracy: 0.8292 - val_loss: 0.3460 - val_accuracy: 0.9029\n",
            "Epoch 28/60\n",
            "15/15 [==============================] - 2s 134ms/step - loss: 0.5255 - accuracy: 0.8235 - val_loss: 0.3462 - val_accuracy: 0.8912\n",
            "Epoch 29/60\n",
            "15/15 [==============================] - 2s 133ms/step - loss: 0.3994 - accuracy: 0.8833 - val_loss: 0.3155 - val_accuracy: 0.9088\n",
            "Epoch 30/60\n",
            "15/15 [==============================] - 2s 132ms/step - loss: 0.5423 - accuracy: 0.8298 - val_loss: 0.3121 - val_accuracy: 0.9000\n",
            "Epoch 31/60\n",
            "15/15 [==============================] - 2s 132ms/step - loss: 0.3850 - accuracy: 0.8562 - val_loss: 0.3585 - val_accuracy: 0.8912\n",
            "Epoch 32/60\n",
            "15/15 [==============================] - 2s 133ms/step - loss: 0.5072 - accuracy: 0.8550 - val_loss: 0.3127 - val_accuracy: 0.9118\n",
            "Epoch 33/60\n",
            "15/15 [==============================] - 2s 133ms/step - loss: 0.4582 - accuracy: 0.8354 - val_loss: 0.3570 - val_accuracy: 0.9000\n",
            "Epoch 34/60\n",
            "15/15 [==============================] - 2s 133ms/step - loss: 0.4747 - accuracy: 0.8333 - val_loss: 0.2874 - val_accuracy: 0.9235\n",
            "Epoch 35/60\n",
            "15/15 [==============================] - 2s 133ms/step - loss: 0.3398 - accuracy: 0.9034 - val_loss: 0.3043 - val_accuracy: 0.9088\n",
            "Epoch 36/60\n",
            "15/15 [==============================] - 2s 135ms/step - loss: 0.3346 - accuracy: 0.8917 - val_loss: 0.2922 - val_accuracy: 0.9147\n",
            "Epoch 37/60\n",
            "15/15 [==============================] - 2s 132ms/step - loss: 0.3802 - accuracy: 0.8803 - val_loss: 0.2978 - val_accuracy: 0.9059\n",
            "Epoch 38/60\n",
            "15/15 [==============================] - 2s 133ms/step - loss: 0.3488 - accuracy: 0.8938 - val_loss: 0.2706 - val_accuracy: 0.9265\n",
            "Epoch 39/60\n",
            "15/15 [==============================] - 2s 133ms/step - loss: 0.2915 - accuracy: 0.8992 - val_loss: 0.2642 - val_accuracy: 0.9294\n",
            "Epoch 40/60\n",
            "15/15 [==============================] - 2s 132ms/step - loss: 0.3247 - accuracy: 0.8813 - val_loss: 0.2773 - val_accuracy: 0.9176\n",
            "Epoch 41/60\n",
            "15/15 [==============================] - 2s 134ms/step - loss: 0.3080 - accuracy: 0.8929 - val_loss: 0.2533 - val_accuracy: 0.9353\n",
            "Epoch 42/60\n",
            "15/15 [==============================] - 2s 133ms/step - loss: 0.2823 - accuracy: 0.9042 - val_loss: 0.2692 - val_accuracy: 0.9294\n",
            "Epoch 43/60\n",
            "15/15 [==============================] - 2s 132ms/step - loss: 0.2437 - accuracy: 0.9265 - val_loss: 0.2749 - val_accuracy: 0.9265\n",
            "Epoch 44/60\n",
            "15/15 [==============================] - 2s 133ms/step - loss: 0.2365 - accuracy: 0.9271 - val_loss: 0.2774 - val_accuracy: 0.9265\n",
            "Epoch 45/60\n",
            "15/15 [==============================] - 2s 133ms/step - loss: 0.2601 - accuracy: 0.9097 - val_loss: 0.2501 - val_accuracy: 0.9324\n",
            "Epoch 46/60\n",
            "15/15 [==============================] - 2s 136ms/step - loss: 0.3063 - accuracy: 0.9021 - val_loss: 0.2551 - val_accuracy: 0.9382\n",
            "Epoch 47/60\n",
            "15/15 [==============================] - 2s 133ms/step - loss: 0.1914 - accuracy: 0.9328 - val_loss: 0.3107 - val_accuracy: 0.9059\n",
            "Epoch 48/60\n",
            "15/15 [==============================] - 2s 136ms/step - loss: 0.1973 - accuracy: 0.9438 - val_loss: 0.2625 - val_accuracy: 0.9324\n",
            "Epoch 49/60\n",
            "15/15 [==============================] - 2s 133ms/step - loss: 0.2724 - accuracy: 0.9104 - val_loss: 0.2473 - val_accuracy: 0.9412\n",
            "Epoch 50/60\n",
            "15/15 [==============================] - 2s 134ms/step - loss: 0.2237 - accuracy: 0.9391 - val_loss: 0.2258 - val_accuracy: 0.9412\n",
            "Epoch 51/60\n",
            "15/15 [==============================] - 2s 134ms/step - loss: 0.1886 - accuracy: 0.9354 - val_loss: 0.2355 - val_accuracy: 0.9412\n",
            "Epoch 52/60\n",
            "15/15 [==============================] - 2s 133ms/step - loss: 0.2238 - accuracy: 0.9244 - val_loss: 0.2134 - val_accuracy: 0.9441\n",
            "Epoch 53/60\n",
            "15/15 [==============================] - 2s 133ms/step - loss: 0.1349 - accuracy: 0.9583 - val_loss: 0.2683 - val_accuracy: 0.9353\n",
            "Epoch 54/60\n",
            "15/15 [==============================] - 2s 132ms/step - loss: 0.1650 - accuracy: 0.9496 - val_loss: 0.2402 - val_accuracy: 0.9441\n",
            "Epoch 55/60\n",
            "15/15 [==============================] - 2s 133ms/step - loss: 0.2133 - accuracy: 0.9250 - val_loss: 0.2768 - val_accuracy: 0.9382\n",
            "Epoch 56/60\n",
            "15/15 [==============================] - 2s 135ms/step - loss: 0.1540 - accuracy: 0.9454 - val_loss: 0.2563 - val_accuracy: 0.9412\n",
            "Epoch 57/60\n",
            "15/15 [==============================] - 2s 133ms/step - loss: 0.1760 - accuracy: 0.9458 - val_loss: 0.2621 - val_accuracy: 0.9324\n",
            "Epoch 58/60\n",
            "15/15 [==============================] - 2s 134ms/step - loss: 0.1491 - accuracy: 0.9559 - val_loss: 0.2234 - val_accuracy: 0.9441\n",
            "Epoch 59/60\n",
            "15/15 [==============================] - 2s 133ms/step - loss: 0.1298 - accuracy: 0.9625 - val_loss: 0.2252 - val_accuracy: 0.9441\n",
            "Epoch 60/60\n",
            "15/15 [==============================] - 2s 132ms/step - loss: 0.1427 - accuracy: 0.9538 - val_loss: 0.2295 - val_accuracy: 0.9441\n"
          ],
          "name": "stdout"
        },
        {
          "output_type": "display_data",
          "data": {
            "image/png": "[encoded data removed]",
            "text/plain": [
              "<Figure size 432x288 with 1 Axes>"
            ]
          },
          "metadata": {
            "tags": []
          }
        },
        {
          "output_type": "stream",
          "text": [
            "11/11 [==============================] - 0s 26ms/step - loss: 0.2295 - accuracy: 0.9441\n",
            "The test set loss and accuracy is \n",
            " [0.22952333092689514, 0.9441176652908325]\n"
          ],
          "name": "stdout"
        }
      ]
    },
    {
      "cell_type": "markdown",
      "metadata": {
        "id": "-5G4eGBsRSUV",
        "colab_type": "text"
      },
      "source": [
        "### Data Augmentation Configuration 2 on the best model obtained "
      ]
    },
    {
      "cell_type": "code",
      "metadata": {
        "id": "xscmVQMy1-YM",
        "colab_type": "code",
        "colab": {
          "base_uri": "https://localhost:8080/",
          "height": 1000
        },
        "outputId": "8aab8104-2283-43c2-f3c1-f4ed723da644"
      },
      "source": [
        "# Set the unfreeze point in the VGG16 model \n",
        "unfreeze_point= 'block4_conv1'\n",
        "# Get the model from phase 2\n",
        "model_phase2= phase2_model(vgg16, unfreeze_point)\n",
        "\n",
        "# Get the generator objects for training and validation \n",
        "train_generator1, train_generator2, validation_generator= get_generator_objects()\n",
        "\n",
        "# Compile and train the model with data augmentation and produce the plots \n",
        "train_with_DA(model_phase2, train_generator2)"
      ],
      "execution_count": 67,
      "outputs": [
        {
          "output_type": "stream",
          "text": [
            "Compiling model...\n",
            "Model: \"sequential_28\"\n",
            "_________________________________________________________________\n",
            "Layer (type)                 Output Shape              Param #   \n",
            "=================================================================\n",
            "vgg16 (Model)                (None, 4, 4, 512)         14714688  \n",
            "_________________________________________________________________\n",
            "flatten_28 (Flatten)         (None, 8192)              0         \n",
            "_________________________________________________________________\n",
            "dropout_28 (Dropout)         (None, 8192)              0         \n",
            "_________________________________________________________________\n",
            "dense_84 (Dense)             (None, 500)               4096500   \n",
            "_________________________________________________________________\n",
            "dense_85 (Dense)             (None, 150)               75150     \n",
            "_________________________________________________________________\n",
            "dense_86 (Dense)             (None, 17)                2567      \n",
            "=================================================================\n",
            "Total params: 18,888,905\n",
            "Trainable params: 17,153,417\n",
            "Non-trainable params: 1,735,488\n",
            "_________________________________________________________________\n",
            "None\n",
            "Training network...\n",
            "Epoch 1/60\n",
            "15/15 [==============================] - 2s 148ms/step - loss: 3.2829 - accuracy: 0.1271 - val_loss: 2.3997 - val_accuracy: 0.2912\n",
            "Epoch 2/60\n",
            "15/15 [==============================] - 2s 135ms/step - loss: 2.7620 - accuracy: 0.1646 - val_loss: 2.0652 - val_accuracy: 0.4294\n",
            "Epoch 3/60\n",
            "15/15 [==============================] - 2s 134ms/step - loss: 2.3763 - accuracy: 0.2983 - val_loss: 1.6855 - val_accuracy: 0.5559\n",
            "Epoch 4/60\n",
            "15/15 [==============================] - 2s 135ms/step - loss: 2.1779 - accuracy: 0.3125 - val_loss: 1.3826 - val_accuracy: 0.6382\n",
            "Epoch 5/60\n",
            "15/15 [==============================] - 2s 135ms/step - loss: 1.7654 - accuracy: 0.4727 - val_loss: 1.1248 - val_accuracy: 0.7206\n",
            "Epoch 6/60\n",
            "15/15 [==============================] - 2s 134ms/step - loss: 1.5859 - accuracy: 0.5292 - val_loss: 0.8965 - val_accuracy: 0.7647\n",
            "Epoch 7/60\n",
            "15/15 [==============================] - 2s 132ms/step - loss: 1.3425 - accuracy: 0.5882 - val_loss: 0.7506 - val_accuracy: 0.7971\n",
            "Epoch 8/60\n",
            "15/15 [==============================] - 2s 134ms/step - loss: 1.2588 - accuracy: 0.5625 - val_loss: 0.6797 - val_accuracy: 0.8176\n",
            "Epoch 9/60\n",
            "15/15 [==============================] - 2s 137ms/step - loss: 1.0973 - accuracy: 0.6681 - val_loss: 0.5654 - val_accuracy: 0.8441\n",
            "Epoch 10/60\n",
            "15/15 [==============================] - 2s 134ms/step - loss: 1.1075 - accuracy: 0.6500 - val_loss: 0.5203 - val_accuracy: 0.8500\n",
            "Epoch 11/60\n",
            "15/15 [==============================] - 2s 133ms/step - loss: 0.9206 - accuracy: 0.7122 - val_loss: 0.4544 - val_accuracy: 0.8853\n",
            "Epoch 12/60\n",
            "15/15 [==============================] - 2s 143ms/step - loss: 0.8426 - accuracy: 0.7229 - val_loss: 0.4666 - val_accuracy: 0.8794\n",
            "Epoch 13/60\n",
            "15/15 [==============================] - 2s 135ms/step - loss: 0.8683 - accuracy: 0.7143 - val_loss: 0.4140 - val_accuracy: 0.8794\n",
            "Epoch 14/60\n",
            "15/15 [==============================] - 2s 134ms/step - loss: 0.7535 - accuracy: 0.7729 - val_loss: 0.3655 - val_accuracy: 0.8971\n",
            "Epoch 15/60\n",
            "15/15 [==============================] - 2s 134ms/step - loss: 0.7352 - accuracy: 0.7563 - val_loss: 0.3559 - val_accuracy: 0.9059\n",
            "Epoch 16/60\n",
            "15/15 [==============================] - 2s 134ms/step - loss: 0.5995 - accuracy: 0.7896 - val_loss: 0.3582 - val_accuracy: 0.9000\n",
            "Epoch 17/60\n",
            "15/15 [==============================] - 2s 134ms/step - loss: 0.6393 - accuracy: 0.7750 - val_loss: 0.3489 - val_accuracy: 0.9059\n",
            "Epoch 18/60\n",
            "15/15 [==============================] - 2s 136ms/step - loss: 0.5703 - accuracy: 0.8235 - val_loss: 0.3350 - val_accuracy: 0.9000\n",
            "Epoch 19/60\n",
            "15/15 [==============================] - 2s 135ms/step - loss: 0.5691 - accuracy: 0.8250 - val_loss: 0.3258 - val_accuracy: 0.9147\n",
            "Epoch 20/60\n",
            "15/15 [==============================] - 2s 133ms/step - loss: 0.5829 - accuracy: 0.8487 - val_loss: 0.3076 - val_accuracy: 0.9235\n",
            "Epoch 21/60\n",
            "15/15 [==============================] - 2s 140ms/step - loss: 0.4758 - accuracy: 0.8542 - val_loss: 0.2986 - val_accuracy: 0.9176\n",
            "Epoch 22/60\n",
            "15/15 [==============================] - 2s 143ms/step - loss: 0.5009 - accuracy: 0.8298 - val_loss: 0.3511 - val_accuracy: 0.9000\n",
            "Epoch 23/60\n",
            "15/15 [==============================] - 2s 135ms/step - loss: 0.3535 - accuracy: 0.8792 - val_loss: 0.2966 - val_accuracy: 0.9118\n",
            "Epoch 24/60\n",
            "15/15 [==============================] - 2s 134ms/step - loss: 0.4752 - accuracy: 0.8487 - val_loss: 0.2628 - val_accuracy: 0.9176\n",
            "Epoch 25/60\n",
            "15/15 [==============================] - 2s 134ms/step - loss: 0.3905 - accuracy: 0.8771 - val_loss: 0.2739 - val_accuracy: 0.9235\n",
            "Epoch 26/60\n",
            "15/15 [==============================] - 2s 134ms/step - loss: 0.4195 - accuracy: 0.8571 - val_loss: 0.2758 - val_accuracy: 0.9294\n",
            "Epoch 27/60\n",
            "15/15 [==============================] - 2s 135ms/step - loss: 0.3689 - accuracy: 0.8813 - val_loss: 0.2817 - val_accuracy: 0.9176\n",
            "Epoch 28/60\n",
            "15/15 [==============================] - 2s 136ms/step - loss: 0.3720 - accuracy: 0.8739 - val_loss: 0.2620 - val_accuracy: 0.9353\n",
            "Epoch 29/60\n",
            "15/15 [==============================] - 2s 136ms/step - loss: 0.3847 - accuracy: 0.8708 - val_loss: 0.2548 - val_accuracy: 0.9294\n",
            "Epoch 30/60\n",
            "15/15 [==============================] - 2s 137ms/step - loss: 0.3471 - accuracy: 0.8824 - val_loss: 0.2323 - val_accuracy: 0.9265\n",
            "Epoch 31/60\n",
            "15/15 [==============================] - 2s 136ms/step - loss: 0.3444 - accuracy: 0.8938 - val_loss: 0.2284 - val_accuracy: 0.9324\n",
            "Epoch 32/60\n",
            "15/15 [==============================] - 2s 143ms/step - loss: 0.2894 - accuracy: 0.9013 - val_loss: 0.2377 - val_accuracy: 0.9412\n",
            "Epoch 33/60\n",
            "15/15 [==============================] - 2s 134ms/step - loss: 0.3124 - accuracy: 0.9062 - val_loss: 0.2801 - val_accuracy: 0.9294\n",
            "Epoch 34/60\n",
            "15/15 [==============================] - 2s 135ms/step - loss: 0.2842 - accuracy: 0.9042 - val_loss: 0.2598 - val_accuracy: 0.9235\n",
            "Epoch 35/60\n",
            "15/15 [==============================] - 2s 134ms/step - loss: 0.3149 - accuracy: 0.9034 - val_loss: 0.2665 - val_accuracy: 0.9324\n",
            "Epoch 36/60\n",
            "15/15 [==============================] - 2s 134ms/step - loss: 0.2589 - accuracy: 0.9104 - val_loss: 0.2630 - val_accuracy: 0.9206\n",
            "Epoch 37/60\n",
            "15/15 [==============================] - 2s 134ms/step - loss: 0.2406 - accuracy: 0.9286 - val_loss: 0.3084 - val_accuracy: 0.9118\n",
            "Epoch 38/60\n",
            "15/15 [==============================] - 2s 136ms/step - loss: 0.2318 - accuracy: 0.9333 - val_loss: 0.2209 - val_accuracy: 0.9471\n",
            "Epoch 39/60\n",
            "15/15 [==============================] - 2s 133ms/step - loss: 0.2212 - accuracy: 0.9223 - val_loss: 0.2725 - val_accuracy: 0.9265\n",
            "Epoch 40/60\n",
            "15/15 [==============================] - 2s 135ms/step - loss: 0.2622 - accuracy: 0.9146 - val_loss: 0.2576 - val_accuracy: 0.9265\n",
            "Epoch 41/60\n",
            "15/15 [==============================] - 2s 134ms/step - loss: 0.2530 - accuracy: 0.9139 - val_loss: 0.2363 - val_accuracy: 0.9382\n",
            "Epoch 42/60\n",
            "15/15 [==============================] - 2s 133ms/step - loss: 0.2264 - accuracy: 0.9167 - val_loss: 0.2238 - val_accuracy: 0.9441\n",
            "Epoch 43/60\n",
            "15/15 [==============================] - 2s 136ms/step - loss: 0.2646 - accuracy: 0.9181 - val_loss: 0.2340 - val_accuracy: 0.9294\n",
            "Epoch 44/60\n",
            "15/15 [==============================] - 2s 134ms/step - loss: 0.2280 - accuracy: 0.9417 - val_loss: 0.3056 - val_accuracy: 0.9176\n",
            "Epoch 45/60\n",
            "15/15 [==============================] - 2s 134ms/step - loss: 0.2470 - accuracy: 0.9139 - val_loss: 0.2408 - val_accuracy: 0.9382\n",
            "Epoch 46/60\n",
            "15/15 [==============================] - 2s 135ms/step - loss: 0.1735 - accuracy: 0.9396 - val_loss: 0.2364 - val_accuracy: 0.9412\n",
            "Epoch 47/60\n",
            "15/15 [==============================] - 2s 134ms/step - loss: 0.1919 - accuracy: 0.9265 - val_loss: 0.2707 - val_accuracy: 0.9353\n",
            "Epoch 48/60\n",
            "15/15 [==============================] - 2s 137ms/step - loss: 0.1852 - accuracy: 0.9333 - val_loss: 0.3476 - val_accuracy: 0.9059\n",
            "Epoch 49/60\n",
            "15/15 [==============================] - 2s 135ms/step - loss: 0.1704 - accuracy: 0.9417 - val_loss: 0.2493 - val_accuracy: 0.9412\n",
            "Epoch 50/60\n",
            "15/15 [==============================] - 2s 145ms/step - loss: 0.1543 - accuracy: 0.9559 - val_loss: 0.3184 - val_accuracy: 0.9235\n",
            "Epoch 51/60\n",
            "15/15 [==============================] - 2s 145ms/step - loss: 0.2103 - accuracy: 0.9312 - val_loss: 0.2467 - val_accuracy: 0.9382\n",
            "Epoch 52/60\n",
            "15/15 [==============================] - 2s 134ms/step - loss: 0.1364 - accuracy: 0.9538 - val_loss: 0.2795 - val_accuracy: 0.9294\n",
            "Epoch 53/60\n",
            "15/15 [==============================] - 2s 136ms/step - loss: 0.1963 - accuracy: 0.9417 - val_loss: 0.3061 - val_accuracy: 0.9235\n",
            "Epoch 54/60\n",
            "15/15 [==============================] - 2s 135ms/step - loss: 0.1704 - accuracy: 0.9496 - val_loss: 0.2454 - val_accuracy: 0.9294\n",
            "Epoch 55/60\n",
            "15/15 [==============================] - 2s 136ms/step - loss: 0.1596 - accuracy: 0.9438 - val_loss: 0.3099 - val_accuracy: 0.9324\n",
            "Epoch 56/60\n",
            "15/15 [==============================] - 2s 133ms/step - loss: 0.1662 - accuracy: 0.9454 - val_loss: 0.2860 - val_accuracy: 0.9353\n",
            "Epoch 57/60\n",
            "15/15 [==============================] - 2s 134ms/step - loss: 0.1735 - accuracy: 0.9417 - val_loss: 0.2379 - val_accuracy: 0.9441\n",
            "Epoch 58/60\n",
            "15/15 [==============================] - 2s 136ms/step - loss: 0.1524 - accuracy: 0.9580 - val_loss: 0.2644 - val_accuracy: 0.9382\n",
            "Epoch 59/60\n",
            "15/15 [==============================] - 2s 134ms/step - loss: 0.1227 - accuracy: 0.9646 - val_loss: 0.2665 - val_accuracy: 0.9353\n",
            "Epoch 60/60\n",
            "15/15 [==============================] - 2s 134ms/step - loss: 0.1329 - accuracy: 0.9601 - val_loss: 0.2951 - val_accuracy: 0.9353\n"
          ],
          "name": "stdout"
        },
        {
          "output_type": "display_data",
          "data": {
            "image/png": "[encoded data removed]",
            "text/plain": [
              "<Figure size 432x288 with 1 Axes>"
            ]
          },
          "metadata": {
            "tags": []
          }
        },
        {
          "output_type": "stream",
          "text": [
            "11/11 [==============================] - 0s 26ms/step - loss: 0.2951 - accuracy: 0.9353\n",
            "The test set loss and accuracy is \n",
            " [0.2950620651245117, 0.9352940917015076]\n"
          ],
          "name": "stdout"
        }
      ]
    },
    {
      "cell_type": "code",
      "metadata": {
        "id": "GR32fo_9Rf0s",
        "colab_type": "code",
        "colab": {}
      },
      "source": [
        ""
      ],
      "execution_count": 0,
      "outputs": []
    }
  ]
}